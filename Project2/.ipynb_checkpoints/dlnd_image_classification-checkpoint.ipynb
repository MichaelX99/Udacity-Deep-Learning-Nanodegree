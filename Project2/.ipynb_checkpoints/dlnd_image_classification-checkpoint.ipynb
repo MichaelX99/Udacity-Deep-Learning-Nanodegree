{
 "cells": [
  {
   "cell_type": "markdown",
   "metadata": {
    "collapsed": true,
    "deletable": true,
    "editable": true
   },
   "source": [
    "# Image Classification\n",
    "In this project, you'll classify images from the [CIFAR-10 dataset](https://www.cs.toronto.edu/~kriz/cifar.html).  The dataset consists of airplanes, dogs, cats, and other objects. You'll preprocess the images, then train a convolutional neural network on all the samples. The images need to be normalized and the labels need to be one-hot encoded.  You'll get to apply what you learned and build a convolutional, max pooling, dropout, and fully connected layers.  At the end, you'll get to see your neural network's predictions on the sample images.\n",
    "## Get the Data\n",
    "Run the following cell to download the [CIFAR-10 dataset for python](https://www.cs.toronto.edu/~kriz/cifar-10-python.tar.gz)."
   ]
  },
  {
   "cell_type": "code",
   "execution_count": 1,
   "metadata": {
    "collapsed": false,
    "deletable": true,
    "editable": true
   },
   "outputs": [
    {
     "name": "stdout",
     "output_type": "stream",
     "text": [
      "All files found!\n"
     ]
    }
   ],
   "source": [
    "\"\"\"\n",
    "DON'T MODIFY ANYTHING IN THIS CELL THAT IS BELOW THIS LINE\n",
    "\"\"\"\n",
    "from urllib.request import urlretrieve\n",
    "from os.path import isfile, isdir\n",
    "from tqdm import tqdm\n",
    "import problem_unittests as tests\n",
    "import tarfile\n",
    "\n",
    "cifar10_dataset_folder_path = 'cifar-10-batches-py'\n",
    "\n",
    "# Use Floyd's cifar-10 dataset if present\n",
    "floyd_cifar10_location = '/input/cifar-10/python.tar.gz'\n",
    "if isfile(floyd_cifar10_location):\n",
    "    tar_gz_path = floyd_cifar10_location\n",
    "else:\n",
    "    tar_gz_path = 'cifar-10-python.tar.gz'\n",
    "\n",
    "class DLProgress(tqdm):\n",
    "    last_block = 0\n",
    "\n",
    "    def hook(self, block_num=1, block_size=1, total_size=None):\n",
    "        self.total = total_size\n",
    "        self.update((block_num - self.last_block) * block_size)\n",
    "        self.last_block = block_num\n",
    "\n",
    "if not isfile(tar_gz_path):\n",
    "    with DLProgress(unit='B', unit_scale=True, miniters=1, desc='CIFAR-10 Dataset') as pbar:\n",
    "        urlretrieve(\n",
    "            'https://www.cs.toronto.edu/~kriz/cifar-10-python.tar.gz',\n",
    "            tar_gz_path,\n",
    "            pbar.hook)\n",
    "\n",
    "if not isdir(cifar10_dataset_folder_path):\n",
    "    with tarfile.open(tar_gz_path) as tar:\n",
    "        tar.extractall()\n",
    "        tar.close()\n",
    "\n",
    "\n",
    "tests.test_folder_path(cifar10_dataset_folder_path)"
   ]
  },
  {
   "cell_type": "markdown",
   "metadata": {
    "deletable": true,
    "editable": true
   },
   "source": [
    "## Explore the Data\n",
    "The dataset is broken into batches to prevent your machine from running out of memory.  The CIFAR-10 dataset consists of 5 batches, named `data_batch_1`, `data_batch_2`, etc.. Each batch contains the labels and images that are one of the following:\n",
    "* airplane\n",
    "* automobile\n",
    "* bird\n",
    "* cat\n",
    "* deer\n",
    "* dog\n",
    "* frog\n",
    "* horse\n",
    "* ship\n",
    "* truck\n",
    "\n",
    "Understanding a dataset is part of making predictions on the data.  Play around with the code cell below by changing the `batch_id` and `sample_id`. The `batch_id` is the id for a batch (1-5). The `sample_id` is the id for a image and label pair in the batch.\n",
    "\n",
    "Ask yourself \"What are all possible labels?\", \"What is the range of values for the image data?\", \"Are the labels in order or random?\".  Answers to questions like these will help you preprocess the data and end up with better predictions."
   ]
  },
  {
   "cell_type": "code",
   "execution_count": 2,
   "metadata": {
    "collapsed": false,
    "deletable": true,
    "editable": true
   },
   "outputs": [
    {
     "name": "stdout",
     "output_type": "stream",
     "text": [
      "\n",
      "Stats of batch 1:\n",
      "Samples: 10000\n",
      "Label Counts: {0: 1005, 1: 974, 2: 1032, 3: 1016, 4: 999, 5: 937, 6: 1030, 7: 1001, 8: 1025, 9: 981}\n",
      "First 20 Labels: [6, 9, 9, 4, 1, 1, 2, 7, 8, 3, 4, 7, 7, 2, 9, 9, 9, 3, 2, 6]\n",
      "\n",
      "Example of Image 5:\n",
      "Image - Min Value: 0 Max Value: 252\n",
      "Image - Shape: (32, 32, 3)\n",
      "Label - Label Id: 1 Name: automobile\n"
     ]
    },
    {
     "data": {
      "image/png": "[encoded data removed]",
      "text/plain": [
       "<matplotlib.figure.Figure at 0x7f2bd815dc18>"
      ]
     },
     "metadata": {
      "image/png": {
       "height": 250,
       "width": 253
      }
     },
     "output_type": "display_data"
    }
   ],
   "source": [
    "%matplotlib inline\n",
    "%config InlineBackend.figure_format = 'retina'\n",
    "\n",
    "import helper\n",
    "import numpy as np\n",
    "\n",
    "# Explore the dataset\n",
    "batch_id = 1\n",
    "sample_id = 5\n",
    "helper.display_stats(cifar10_dataset_folder_path, batch_id, sample_id)"
   ]
  },
  {
   "cell_type": "markdown",
   "metadata": {
    "deletable": true,
    "editable": true
   },
   "source": [
    "## Implement Preprocess Functions\n",
    "### Normalize\n",
    "In the cell below, implement the `normalize` function to take in image data, `x`, and return it as a normalized Numpy array. The values should be in the range of 0 to 1, inclusive.  The return object should be the same shape as `x`."
   ]
  },
  {
   "cell_type": "code",
   "execution_count": 3,
   "metadata": {
    "collapsed": false,
    "deletable": true,
    "editable": true
   },
   "outputs": [
    {
     "name": "stdout",
     "output_type": "stream",
     "text": [
      "Tests Passed\n"
     ]
    }
   ],
   "source": [
    "def normalize(x):\n",
    "    \"\"\"\n",
    "    Normalize a list of sample image data in the range of 0 to 1\n",
    "    : x: List of image data.  The image shape is (32, 32, 3)\n",
    "    : return: Numpy array of normalize data\n",
    "    \"\"\"\n",
    "    # TODO: Implement Function\n",
    "    min_val = np.min(x)\n",
    "    max_val = np.max(x)\n",
    "    out = np.divide(np.subtract(x,min_val),max_val-min_val)\n",
    "    \n",
    "    return out\n",
    "\n",
    "\n",
    "\"\"\"\n",
    "DON'T MODIFY ANYTHING IN THIS CELL THAT IS BELOW THIS LINE\n",
    "\"\"\"\n",
    "tests.test_normalize(normalize)"
   ]
  },
  {
   "cell_type": "markdown",
   "metadata": {
    "deletable": true,
    "editable": true
   },
   "source": [
    "### One-hot encode\n",
    "Just like the previous code cell, you'll be implementing a function for preprocessing.  This time, you'll implement the `one_hot_encode` function. The input, `x`, are a list of labels.  Implement the function to return the list of labels as One-Hot encoded Numpy array.  The possible values for labels are 0 to 9. The one-hot encoding function should return the same encoding for each value between each call to `one_hot_encode`.  Make sure to save the map of encodings outside the function.\n",
    "\n",
    "Hint: Don't reinvent the wheel."
   ]
  },
  {
   "cell_type": "code",
   "execution_count": 4,
   "metadata": {
    "collapsed": false,
    "deletable": true,
    "editable": true
   },
   "outputs": [
    {
     "name": "stdout",
     "output_type": "stream",
     "text": [
      "Tests Passed\n"
     ]
    }
   ],
   "source": [
    "def one_hot_encode(x):\n",
    "    \"\"\"\n",
    "    One hot encode a list of sample labels. Return a one-hot encoded vector for each label.\n",
    "    : x: List of sample Labels\n",
    "    : return: Numpy array of one-hot encoded labels\n",
    "    \"\"\"\n",
    "    # TODO: Implement Function\n",
    "    n = len(x)\n",
    "    out = np.zeros((n,10))\n",
    "    for i in range(n):\n",
    "        out[i,x[i]] = 1\n",
    "    \n",
    "    return out\n",
    "\n",
    "\n",
    "\"\"\"\n",
    "DON'T MODIFY ANYTHING IN THIS CELL THAT IS BELOW THIS LINE\n",
    "\"\"\"\n",
    "tests.test_one_hot_encode(one_hot_encode)"
   ]
  },
  {
   "cell_type": "markdown",
   "metadata": {
    "deletable": true,
    "editable": true
   },
   "source": [
    "### Randomize Data\n",
    "As you saw from exploring the data above, the order of the samples are randomized.  It doesn't hurt to randomize it again, but you don't need to for this dataset."
   ]
  },
  {
   "cell_type": "markdown",
   "metadata": {
    "deletable": true,
    "editable": true
   },
   "source": [
    "## Preprocess all the data and save it\n",
    "Running the code cell below will preprocess all the CIFAR-10 data and save it to file. The code below also uses 10% of the training data for validation."
   ]
  },
  {
   "cell_type": "code",
   "execution_count": 5,
   "metadata": {
    "collapsed": false,
    "deletable": true,
    "editable": true
   },
   "outputs": [],
   "source": [
    "\"\"\"\n",
    "DON'T MODIFY ANYTHING IN THIS CELL\n",
    "\"\"\"\n",
    "# Preprocess Training, Validation, and Testing Data\n",
    "helper.preprocess_and_save_data(cifar10_dataset_folder_path, normalize, one_hot_encode)"
   ]
  },
  {
   "cell_type": "markdown",
   "metadata": {
    "deletable": true,
    "editable": true
   },
   "source": [
    "# Check Point\n",
    "This is your first checkpoint.  If you ever decide to come back to this notebook or have to restart the notebook, you can start from here.  The preprocessed data has been saved to disk."
   ]
  },
  {
   "cell_type": "code",
   "execution_count": 6,
   "metadata": {
    "collapsed": true,
    "deletable": true,
    "editable": true
   },
   "outputs": [],
   "source": [
    "\"\"\"\n",
    "DON'T MODIFY ANYTHING IN THIS CELL\n",
    "\"\"\"\n",
    "import pickle\n",
    "import problem_unittests as tests\n",
    "import helper\n",
    "\n",
    "# Load the Preprocessed Validation data\n",
    "valid_features, valid_labels = pickle.load(open('preprocess_validation.p', mode='rb'))"
   ]
  },
  {
   "cell_type": "markdown",
   "metadata": {
    "deletable": true,
    "editable": true
   },
   "source": [
    "## Build the network\n",
    "For the neural network, you'll build each layer into a function.  Most of the code you've seen has been outside of functions. To test your code more thoroughly, we require that you put each layer in a function.  This allows us to give you better feedback and test for simple mistakes using our unittests before you submit your project.\n",
    "\n",
    ">**Note:** If you're finding it hard to dedicate enough time for this course each week, we've provided a small shortcut to this part of the project. In the next couple of problems, you'll have the option to use classes from the [TensorFlow Layers](https://www.tensorflow.org/api_docs/python/tf/layers) or [TensorFlow Layers (contrib)](https://www.tensorflow.org/api_guides/python/contrib.layers) packages to build each layer, except the layers you build in the \"Convolutional and Max Pooling Layer\" section.  TF Layers is similar to Keras's and TFLearn's abstraction to layers, so it's easy to pickup.\n",
    "\n",
    ">However, if you would like to get the most out of this course, try to solve all the problems _without_ using anything from the TF Layers packages. You **can** still use classes from other packages that happen to have the same name as ones you find in TF Layers! For example, instead of using the TF Layers version of the `conv2d` class, [tf.layers.conv2d](https://www.tensorflow.org/api_docs/python/tf/layers/conv2d), you would want to use the TF Neural Network version of `conv2d`, [tf.nn.conv2d](https://www.tensorflow.org/api_docs/python/tf/nn/conv2d). \n",
    "\n",
    "Let's begin!\n",
    "\n",
    "### Input\n",
    "The neural network needs to read the image data, one-hot encoded labels, and dropout keep probability. Implement the following functions\n",
    "* Implement `neural_net_image_input`\n",
    " * Return a [TF Placeholder](https://www.tensorflow.org/api_docs/python/tf/placeholder)\n",
    " * Set the shape using `image_shape` with batch size set to `None`.\n",
    " * Name the TensorFlow placeholder \"x\" using the TensorFlow `name` parameter in the [TF Placeholder](https://www.tensorflow.org/api_docs/python/tf/placeholder).\n",
    "* Implement `neural_net_label_input`\n",
    " * Return a [TF Placeholder](https://www.tensorflow.org/api_docs/python/tf/placeholder)\n",
    " * Set the shape using `n_classes` with batch size set to `None`.\n",
    " * Name the TensorFlow placeholder \"y\" using the TensorFlow `name` parameter in the [TF Placeholder](https://www.tensorflow.org/api_docs/python/tf/placeholder).\n",
    "* Implement `neural_net_keep_prob_input`\n",
    " * Return a [TF Placeholder](https://www.tensorflow.org/api_docs/python/tf/placeholder) for dropout keep probability.\n",
    " * Name the TensorFlow placeholder \"keep_prob\" using the TensorFlow `name` parameter in the [TF Placeholder](https://www.tensorflow.org/api_docs/python/tf/placeholder).\n",
    "\n",
    "These names will be used at the end of the project to load your saved model.\n",
    "\n",
    "Note: `None` for shapes in TensorFlow allow for a dynamic size."
   ]
  },
  {
   "cell_type": "code",
   "execution_count": 7,
   "metadata": {
    "collapsed": false,
    "deletable": true,
    "editable": true
   },
   "outputs": [
    {
     "name": "stdout",
     "output_type": "stream",
     "text": [
      "Image Input Tests Passed.\n",
      "Label Input Tests Passed.\n",
      "Keep Prob Tests Passed.\n"
     ]
    }
   ],
   "source": [
    "import tensorflow as tf\n",
    "\n",
    "def neural_net_image_input(image_shape):\n",
    "    \"\"\"\n",
    "    Return a Tensor for a batch of image input\n",
    "    : image_shape: Shape of the images\n",
    "    : return: Tensor for image input.\n",
    "    \"\"\"\n",
    "    # TODO: Implement Function\n",
    "    return tf.placeholder(dtype=tf.float32, shape=(None, image_shape[0], image_shape[1], image_shape[2]), name='x')\n",
    "\n",
    "def neural_net_label_input(n_classes):\n",
    "    \"\"\"\n",
    "    Return a Tensor for a batch of label input\n",
    "    : n_classes: Number of classes\n",
    "    : return: Tensor for label input.\n",
    "    \"\"\"\n",
    "    # TODO: Implement Function\n",
    "    return tf.placeholder(dtype=tf.int32, shape=(None, n_classes), name='y')\n",
    "\n",
    "\n",
    "def neural_net_keep_prob_input():\n",
    "    \"\"\"\n",
    "    Return a Tensor for keep probability\n",
    "    : return: Tensor for keep probability.\n",
    "    \"\"\"\n",
    "    # TODO: Implement Function\n",
    "    return tf.placeholder(dtype=tf.float32, name='keep_prob')\n",
    "\n",
    "\"\"\"\n",
    "DON'T MODIFY ANYTHING IN THIS CELL THAT IS BELOW THIS LINE\n",
    "\"\"\"\n",
    "tf.reset_default_graph()\n",
    "tests.test_nn_image_inputs(neural_net_image_input)\n",
    "tests.test_nn_label_inputs(neural_net_label_input)\n",
    "tests.test_nn_keep_prob_inputs(neural_net_keep_prob_input)"
   ]
  },
  {
   "cell_type": "markdown",
   "metadata": {
    "deletable": true,
    "editable": true
   },
   "source": [
    "### Convolution and Max Pooling Layer\n",
    "Convolution layers have a lot of success with images. For this code cell, you should implement the function `conv2d_maxpool` to apply convolution then max pooling:\n",
    "* Create the weight and bias using `conv_ksize`, `conv_num_outputs` and the shape of `x_tensor`.\n",
    "* Apply a convolution to `x_tensor` using weight and `conv_strides`.\n",
    " * We recommend you use same padding, but you're welcome to use any padding.\n",
    "* Add bias\n",
    "* Add a nonlinear activation to the convolution.\n",
    "* Apply Max Pooling using `pool_ksize` and `pool_strides`.\n",
    " * We recommend you use same padding, but you're welcome to use any padding.\n",
    "\n",
    "**Note:** You **can't** use [TensorFlow Layers](https://www.tensorflow.org/api_docs/python/tf/layers) or [TensorFlow Layers (contrib)](https://www.tensorflow.org/api_guides/python/contrib.layers) for **this** layer, but you can still use TensorFlow's [Neural Network](https://www.tensorflow.org/api_docs/python/tf/nn) package. You may still use the shortcut option for all the **other** layers."
   ]
  },
  {
   "cell_type": "code",
   "execution_count": 8,
   "metadata": {
    "collapsed": false,
    "deletable": true,
    "editable": true
   },
   "outputs": [
    {
     "name": "stdout",
     "output_type": "stream",
     "text": [
      "Tests Passed\n"
     ]
    }
   ],
   "source": [
    "def conv2d_maxpool(x_tensor, conv_num_outputs, conv_ksize, conv_strides, pool_ksize, pool_strides, name='layer'):\n",
    "    \"\"\"\n",
    "    Apply convolution then max pooling to x_tensor\n",
    "    :param x_tensor: TensorFlow Tensor\n",
    "    :param conv_num_outputs: Number of outputs for the convolutional layer\n",
    "    :param conv_ksize: kernal size 2-D Tuple for the convolutional layer\n",
    "    :param conv_strides: Stride 2-D Tuple for convolution\n",
    "    :param pool_ksize: kernal size 2-D Tuple for pool\n",
    "    :param pool_strides: Stride 2-D Tuple for pool\n",
    "    : return: A tensor that represents convolution and max pooling of x_tensor\n",
    "    \"\"\"\n",
    "    # TODO: Implement Function\n",
    "    shape = (conv_ksize[0], conv_ksize[1], x_tensor.shape.as_list()[3], conv_num_outputs)\n",
    "    w = tf.Variable(tf.truncated_normal(shape, 0, .1))\n",
    "    b = tf.Variable(tf.zeros(shape=(conv_num_outputs)))\n",
    "    #with tf.variable_scope('convolutional_'+name):\n",
    "    #    w = tf.get_variable(name='w', shape=shape, initializer=tf.contrib.layers.xavier_initializer_conv2d())\n",
    "    #    b = tf.get_variable(name='b', shape=(conv_num_outputs), initializer=tf.contrib.layers.xavier_initializer_conv2d())\n",
    "    convolution = tf.nn.conv2d(x_tensor, w, [1,conv_strides[0],conv_strides[1],1], 'SAME') + b\n",
    "    activation = tf.nn.relu(convolution)\n",
    "    pool = tf.nn.max_pool(activation, [1,pool_ksize[0],pool_ksize[1],1], [1,pool_strides[0],pool_strides[1],1], 'SAME')\n",
    "\n",
    "    return pool\n",
    "\n",
    "\"\"\"\n",
    "DON'T MODIFY ANYTHING IN THIS CELL THAT IS BELOW THIS LINE\n",
    "\"\"\"\n",
    "tests.test_con_pool(conv2d_maxpool)"
   ]
  },
  {
   "cell_type": "markdown",
   "metadata": {
    "deletable": true,
    "editable": true
   },
   "source": [
    "### Flatten Layer\n",
    "Implement the `flatten` function to change the dimension of `x_tensor` from a 4-D tensor to a 2-D tensor.  The output should be the shape (*Batch Size*, *Flattened Image Size*). Shortcut option: you can use classes from the [TensorFlow Layers](https://www.tensorflow.org/api_docs/python/tf/layers) or [TensorFlow Layers (contrib)](https://www.tensorflow.org/api_guides/python/contrib.layers) packages for this layer. For more of a challenge, only use other TensorFlow packages."
   ]
  },
  {
   "cell_type": "code",
   "execution_count": 9,
   "metadata": {
    "collapsed": false,
    "deletable": true,
    "editable": true
   },
   "outputs": [
    {
     "name": "stdout",
     "output_type": "stream",
     "text": [
      "Tests Passed\n"
     ]
    }
   ],
   "source": [
    "def flatten(x_tensor):\n",
    "    \"\"\"\n",
    "    Flatten x_tensor to (Batch Size, Flattened Image Size)\n",
    "    : x_tensor: A tensor of size (Batch Size, ...), where ... are the image dimensions.\n",
    "    : return: A tensor of size (Batch Size, Flattened Image Size).\n",
    "    \"\"\"\n",
    "    # TODO: Implement Function\n",
    "    return tf.contrib.layers.flatten(x_tensor)\n",
    "\n",
    "\n",
    "\"\"\"\n",
    "DON'T MODIFY ANYTHING IN THIS CELL THAT IS BELOW THIS LINE\n",
    "\"\"\"\n",
    "tests.test_flatten(flatten)"
   ]
  },
  {
   "cell_type": "markdown",
   "metadata": {
    "deletable": true,
    "editable": true
   },
   "source": [
    "### Fully-Connected Layer\n",
    "Implement the `fully_conn` function to apply a fully connected layer to `x_tensor` with the shape (*Batch Size*, *num_outputs*). Shortcut option: you can use classes from the [TensorFlow Layers](https://www.tensorflow.org/api_docs/python/tf/layers) or [TensorFlow Layers (contrib)](https://www.tensorflow.org/api_guides/python/contrib.layers) packages for this layer. For more of a challenge, only use other TensorFlow packages."
   ]
  },
  {
   "cell_type": "code",
   "execution_count": 10,
   "metadata": {
    "collapsed": false,
    "deletable": true,
    "editable": true
   },
   "outputs": [
    {
     "name": "stdout",
     "output_type": "stream",
     "text": [
      "Tests Passed\n"
     ]
    }
   ],
   "source": [
    "def fully_conn(x_tensor, num_outputs, name='layer'):\n",
    "    \"\"\"\n",
    "    Apply a fully connected layer to x_tensor using weight and bias\n",
    "    : x_tensor: A 2-D tensor where the first dimension is batch size.\n",
    "    : num_outputs: The number of output that the new tensor should be.\n",
    "    : return: A 2-D tensor where the second dimension is num_outputs.\n",
    "    \"\"\"\n",
    "    # TODO: Implement Function\n",
    "    w = tf.Variable(tf.truncated_normal((x_tensor.shape.as_list()[1], num_outputs),0,.1))\n",
    "    b = tf.Variable(tf.zeros(num_outputs))\n",
    "    #with tf.variable_scope('fully_connected'+name):\n",
    "    #    w = tf.get_variable(name='w', shape=(x_tensor.shape.as_list()[1], num_outputs), initializer=tf.contrib.layers.xavier_initializer())\n",
    "    #    b = tf.get_variable(name='b', shape=(num_outputs), initializer=tf.contrib.layers.xavier_initializer())\n",
    "    return tf.nn.relu(tf.matmul(x_tensor,w) + b)\n",
    "\n",
    "\n",
    "\"\"\"\n",
    "DON'T MODIFY ANYTHING IN THIS CELL THAT IS BELOW THIS LINE\n",
    "\"\"\"\n",
    "tests.test_fully_conn(fully_conn)"
   ]
  },
  {
   "cell_type": "markdown",
   "metadata": {
    "deletable": true,
    "editable": true
   },
   "source": [
    "### Output Layer\n",
    "Implement the `output` function to apply a fully connected layer to `x_tensor` with the shape (*Batch Size*, *num_outputs*). Shortcut option: you can use classes from the [TensorFlow Layers](https://www.tensorflow.org/api_docs/python/tf/layers) or [TensorFlow Layers (contrib)](https://www.tensorflow.org/api_guides/python/contrib.layers) packages for this layer. For more of a challenge, only use other TensorFlow packages.\n",
    "\n",
    "**Note:** Activation, softmax, or cross entropy should **not** be applied to this."
   ]
  },
  {
   "cell_type": "code",
   "execution_count": 11,
   "metadata": {
    "collapsed": false,
    "deletable": true,
    "editable": true
   },
   "outputs": [
    {
     "name": "stdout",
     "output_type": "stream",
     "text": [
      "Tests Passed\n"
     ]
    }
   ],
   "source": [
    "def output(x_tensor, num_outputs, name='layer'):\n",
    "    \"\"\"\n",
    "    Apply a output layer to x_tensor using weight and bias\n",
    "    : x_tensor: A 2-D tensor where the first dimension is batch size.\n",
    "    : num_outputs: The number of output that the new tensor should be.\n",
    "    : return: A 2-D tensor where the second dimension is num_outputs.\n",
    "    \"\"\"\n",
    "    # TODO: Implement Function\n",
    "    w = tf.Variable(tf.truncated_normal((x_tensor.shape.as_list()[1], num_outputs),0,.1))\n",
    "    b = tf.Variable(tf.zeros(num_outputs))\n",
    "    #with tf.variable_scope('output'+name):\n",
    "    #    w = tf.get_variable(name='w', shape=(x_tensor.shape.as_list()[1], num_outputs), initializer=tf.contrib.layers.xavier_initializer())\n",
    "    #    b = tf.get_variable(name='b', shape=(num_outputs), initializer=tf.contrib.layers.xavier_initializer())\n",
    "    return tf.matmul(x_tensor,w) + b\n",
    "\n",
    "\n",
    "\"\"\"\n",
    "DON'T MODIFY ANYTHING IN THIS CELL THAT IS BELOW THIS LINE\n",
    "\"\"\"\n",
    "tests.test_output(output)"
   ]
  },
  {
   "cell_type": "markdown",
   "metadata": {
    "deletable": true,
    "editable": true
   },
   "source": [
    "### Create Convolutional Model\n",
    "Implement the function `conv_net` to create a convolutional neural network model. The function takes in a batch of images, `x`, and outputs logits.  Use the layers you created above to create this model:\n",
    "\n",
    "* Apply 1, 2, or 3 Convolution and Max Pool layers\n",
    "* Apply a Flatten Layer\n",
    "* Apply 1, 2, or 3 Fully Connected Layers\n",
    "* Apply an Output Layer\n",
    "* Return the output\n",
    "* Apply [TensorFlow's Dropout](https://www.tensorflow.org/api_docs/python/tf/nn/dropout) to one or more layers in the model using `keep_prob`. "
   ]
  },
  {
   "cell_type": "code",
   "execution_count": 23,
   "metadata": {
    "collapsed": false,
    "deletable": true,
    "editable": true
   },
   "outputs": [
    {
     "name": "stdout",
     "output_type": "stream",
     "text": [
      "Neural Network Built!\n"
     ]
    }
   ],
   "source": [
    "def conv_net(x, keep_prob):\n",
    "    \"\"\"\n",
    "    Create a convolutional neural network model\n",
    "    : x: Placeholder tensor that holds image data.\n",
    "    : keep_prob: Placeholder tensor that hold dropout keep probability.\n",
    "    : return: Tensor that represents logits\n",
    "    \"\"\"\n",
    "    # TODO: Apply 1, 2, or 3 Convolution and Max Pool layers\n",
    "    #    Play around with different number of outputs, kernel size and stride\n",
    "    # Function Definition from Above:\n",
    "    #    conv2d_maxpool(x_tensor, conv_num_outputs, conv_ksize, conv_strides, pool_ksize, pool_strides)\n",
    "    conv1 = conv2d_maxpool(x, 16, (5,5), (3,3), (1,1), (1,1), 'layer1')\n",
    "    \n",
    "    conv2 = conv2d_maxpool(conv1, 32, (5,5), (3,3), (1,1), (1,1), 'layer2')\n",
    "    \n",
    "    conv3 = conv2d_maxpool(conv2, 32, (3,3), (1,1), (3,3), (2,2), 'layer3')\n",
    "    \n",
    "    conv4 = conv2d_maxpool(conv3, 64, (5,5), (1,1), (3,3), (2,2), 'layer4')\n",
    "    \n",
    "    conv5 = conv2d_maxpool(conv4, 32, (3,3), (1,1), (3,3), (2,2), 'layer5')\n",
    "\n",
    "    # TODO: Apply a Flatten Layer\n",
    "    # Function Definition from Above:\n",
    "    #   flatten(x_tensor)\n",
    "    flat = flatten(conv2)\n",
    "    \n",
    "\n",
    "    # TODO: Apply 1, 2, or 3 Fully Connected Layers\n",
    "    #    Play around with different number of outputs\n",
    "    # Function Definition from Above:\n",
    "    #   fully_conn(x_tensor, num_outputs)\n",
    "    fc1 = fully_conn(flat, 30, 'layer6')\n",
    "    \n",
    "    drop1 = tf.nn.dropout(fc1, keep_prob)\n",
    "    \n",
    "    fc2 = fully_conn(drop1, 20, 'layer7')\n",
    "    \n",
    "    fc3 = fully_conn(fc2, 20, 'layer8')\n",
    "    \n",
    "    drop2 = tf.nn.dropout(fc2, keep_prob)\n",
    "    \n",
    "    # TODO: Apply an Output Layer\n",
    "    #    Set this to the number of classes\n",
    "    # Function Definition from Above:\n",
    "    #   output(x_tensor, num_outputs)\n",
    "    \n",
    "    \n",
    "    # TODO: return output\n",
    "    out = output(drop2, 10, 'layer9')\n",
    "    return out\n",
    "\n",
    "\n",
    "\"\"\"\n",
    "DON'T MODIFY ANYTHING IN THIS CELL THAT IS BELOW THIS LINE\n",
    "\"\"\"\n",
    "\n",
    "##############################\n",
    "## Build the Neural Network ##\n",
    "##############################\n",
    "\n",
    "# Remove previous weights, bias, inputs, etc..\n",
    "tf.reset_default_graph()\n",
    "\n",
    "# Inputs\n",
    "x = neural_net_image_input((32, 32, 3))\n",
    "y = neural_net_label_input(10)\n",
    "keep_prob = neural_net_keep_prob_input()\n",
    "\n",
    "# Model\n",
    "logits = conv_net(x, keep_prob)\n",
    "\n",
    "# Name logits Tensor, so that is can be loaded from disk after training\n",
    "logits = tf.identity(logits, name='logits')\n",
    "\n",
    "# Loss and Optimizer\n",
    "cost = tf.reduce_mean(tf.nn.softmax_cross_entropy_with_logits(logits=logits, labels=y))\n",
    "optimizer = tf.train.AdamOptimizer().minimize(cost)\n",
    "\n",
    "# Accuracy\n",
    "correct_pred = tf.equal(tf.argmax(logits, 1), tf.argmax(y, 1))\n",
    "accuracy = tf.reduce_mean(tf.cast(correct_pred, tf.float32), name='accuracy')\n",
    "\n",
    "tests.test_conv_net(conv_net)"
   ]
  },
  {
   "cell_type": "markdown",
   "metadata": {
    "deletable": true,
    "editable": true
   },
   "source": [
    "## Train the Neural Network\n",
    "### Single Optimization\n",
    "Implement the function `train_neural_network` to do a single optimization.  The optimization should use `optimizer` to optimize in `session` with a `feed_dict` of the following:\n",
    "* `x` for image input\n",
    "* `y` for labels\n",
    "* `keep_prob` for keep probability for dropout\n",
    "\n",
    "This function will be called for each batch, so `tf.global_variables_initializer()` has already been called.\n",
    "\n",
    "Note: Nothing needs to be returned. This function is only optimizing the neural network."
   ]
  },
  {
   "cell_type": "code",
   "execution_count": 24,
   "metadata": {
    "collapsed": false,
    "deletable": true,
    "editable": true
   },
   "outputs": [
    {
     "name": "stdout",
     "output_type": "stream",
     "text": [
      "Tests Passed\n"
     ]
    }
   ],
   "source": [
    "def train_neural_network(session, optimizer, keep_probability, feature_batch, label_batch):\n",
    "    \"\"\"\n",
    "    Optimize the session on a batch of images and labels\n",
    "    : session: Current TensorFlow session\n",
    "    : optimizer: TensorFlow optimizer function\n",
    "    : keep_probability: keep probability\n",
    "    : feature_batch: Batch of Numpy image data\n",
    "    : label_batch: Batch of Numpy label data\n",
    "    \"\"\"\n",
    "    # TODO: Implement Function\n",
    "    session.run(optimizer, feed_dict={x: feature_batch, y: label_batch, keep_prob: keep_probability})\n",
    "\n",
    "\n",
    "\"\"\"\n",
    "DON'T MODIFY ANYTHING IN THIS CELL THAT IS BELOW THIS LINE\n",
    "\"\"\"\n",
    "tests.test_train_nn(train_neural_network)"
   ]
  },
  {
   "cell_type": "markdown",
   "metadata": {
    "deletable": true,
    "editable": true
   },
   "source": [
    "### Show Stats\n",
    "Implement the function `print_stats` to print loss and validation accuracy.  Use the global variables `valid_features` and `valid_labels` to calculate validation accuracy.  Use a keep probability of `1.0` to calculate the loss and validation accuracy."
   ]
  },
  {
   "cell_type": "code",
   "execution_count": 25,
   "metadata": {
    "collapsed": false,
    "deletable": true,
    "editable": true
   },
   "outputs": [],
   "source": [
    "def print_stats(session, feature_batch, label_batch, cost, accuracy):\n",
    "    \"\"\"\n",
    "    Print information about loss and validation accuracy\n",
    "    : session: Current TensorFlow session\n",
    "    : feature_batch: Batch of Numpy image data\n",
    "    : label_batch: Batch of Numpy label data\n",
    "    : cost: TensorFlow cost function\n",
    "    : accuracy: TensorFlow accuracy function\n",
    "    \"\"\"\n",
    "    # TODO: Implement Function\n",
    "    loss = session.run(cost, feed_dict={x: feature_batch, y: label_batch, keep_prob: 1.0})\n",
    "    acc = session.run(accuracy, feed_dict={x: valid_features, y: valid_labels, keep_prob: 1.0})\n",
    "    print('loss = '+str(loss)+', accuracy = '+str(acc))"
   ]
  },
  {
   "cell_type": "markdown",
   "metadata": {
    "deletable": true,
    "editable": true
   },
   "source": [
    "### Hyperparameters\n",
    "Tune the following parameters:\n",
    "* Set `epochs` to the number of iterations until the network stops learning or start overfitting\n",
    "* Set `batch_size` to the highest number that your machine has memory for.  Most people set them to common sizes of memory:\n",
    " * 64\n",
    " * 128\n",
    " * 256\n",
    " * ...\n",
    "* Set `keep_probability` to the probability of keeping a node using dropout"
   ]
  },
  {
   "cell_type": "code",
   "execution_count": 26,
   "metadata": {
    "collapsed": true,
    "deletable": true,
    "editable": true
   },
   "outputs": [],
   "source": [
    "# TODO: Tune Parameters\n",
    "epochs = 100\n",
    "batch_size = 256\n",
    "keep_probability = .5"
   ]
  },
  {
   "cell_type": "markdown",
   "metadata": {
    "deletable": true,
    "editable": true
   },
   "source": [
    "### Train on a Single CIFAR-10 Batch\n",
    "Instead of training the neural network on all the CIFAR-10 batches of data, let's use a single batch. This should save time while you iterate on the model to get a better accuracy.  Once the final validation accuracy is 50% or greater, run the model on all the data in the next section."
   ]
  },
  {
   "cell_type": "code",
   "execution_count": 27,
   "metadata": {
    "collapsed": false,
    "deletable": true,
    "editable": true
   },
   "outputs": [
    {
     "name": "stdout",
     "output_type": "stream",
     "text": [
      "Checking the Training on a Single Batch...\n",
      "Epoch  1, CIFAR-10 Batch 1:  loss = 2.28581, accuracy = 0.1326\n",
      "Epoch  2, CIFAR-10 Batch 1:  loss = 2.22639, accuracy = 0.1996\n",
      "Epoch  3, CIFAR-10 Batch 1:  loss = 2.18187, accuracy = 0.254\n",
      "Epoch  4, CIFAR-10 Batch 1:  loss = 2.14714, accuracy = 0.27\n",
      "Epoch  5, CIFAR-10 Batch 1:  loss = 2.11089, accuracy = 0.2984\n",
      "Epoch  6, CIFAR-10 Batch 1:  loss = 2.06649, accuracy = 0.2966\n",
      "Epoch  7, CIFAR-10 Batch 1:  loss = 2.01351, accuracy = 0.3116\n",
      "Epoch  8, CIFAR-10 Batch 1:  loss = 1.97319, accuracy = 0.3168\n",
      "Epoch  9, CIFAR-10 Batch 1:  loss = 1.93161, accuracy = 0.3374\n",
      "Epoch 10, CIFAR-10 Batch 1:  loss = 1.89928, accuracy = 0.324\n",
      "Epoch 11, CIFAR-10 Batch 1:  loss = 1.86271, accuracy = 0.3534\n",
      "Epoch 12, CIFAR-10 Batch 1:  loss = 1.82574, accuracy = 0.3604\n",
      "Epoch 13, CIFAR-10 Batch 1:  loss = 1.80088, accuracy = 0.3498\n",
      "Epoch 14, CIFAR-10 Batch 1:  loss = 1.78682, accuracy = 0.348\n",
      "Epoch 15, CIFAR-10 Batch 1:  loss = 1.75678, accuracy = 0.36\n",
      "Epoch 16, CIFAR-10 Batch 1:  loss = 1.7453, accuracy = 0.35\n",
      "Epoch 17, CIFAR-10 Batch 1:  loss = 1.72366, accuracy = 0.3762\n",
      "Epoch 18, CIFAR-10 Batch 1:  loss = 1.72068, accuracy = 0.3644\n",
      "Epoch 19, CIFAR-10 Batch 1:  loss = 1.66963, accuracy = 0.3684\n",
      "Epoch 20, CIFAR-10 Batch 1:  loss = 1.71442, accuracy = 0.3562\n",
      "Epoch 21, CIFAR-10 Batch 1:  loss = 1.5905, accuracy = 0.3826\n",
      "Epoch 22, CIFAR-10 Batch 1:  loss = 1.58474, accuracy = 0.3934\n",
      "Epoch 23, CIFAR-10 Batch 1:  loss = 1.57009, accuracy = 0.3928\n",
      "Epoch 24, CIFAR-10 Batch 1:  loss = 1.56396, accuracy = 0.3832\n",
      "Epoch 25, CIFAR-10 Batch 1:  loss = 1.52342, accuracy = 0.3898\n",
      "Epoch 26, CIFAR-10 Batch 1:  loss = 1.63454, accuracy = 0.365\n",
      "Epoch 27, CIFAR-10 Batch 1:  loss = 1.48726, accuracy = 0.3958\n",
      "Epoch 28, CIFAR-10 Batch 1:  loss = 1.47098, accuracy = 0.3876\n",
      "Epoch 29, CIFAR-10 Batch 1:  loss = 1.43419, accuracy = 0.4022\n",
      "Epoch 30, CIFAR-10 Batch 1:  loss = 1.42045, accuracy = 0.4014\n",
      "Epoch 31, CIFAR-10 Batch 1:  loss = 1.41253, accuracy = 0.4086\n",
      "Epoch 32, CIFAR-10 Batch 1:  loss = 1.42721, accuracy = 0.3988\n",
      "Epoch 33, CIFAR-10 Batch 1:  loss = 1.33772, accuracy = 0.4046\n",
      "Epoch 34, CIFAR-10 Batch 1:  loss = 1.30876, accuracy = 0.411\n",
      "Epoch 35, CIFAR-10 Batch 1:  loss = 1.33259, accuracy = 0.4012\n",
      "Epoch 36, CIFAR-10 Batch 1:  loss = 1.29805, accuracy = 0.4132\n",
      "Epoch 37, CIFAR-10 Batch 1:  loss = 1.27403, accuracy = 0.418\n",
      "Epoch 38, CIFAR-10 Batch 1:  loss = 1.24846, accuracy = 0.4136\n",
      "Epoch 39, CIFAR-10 Batch 1:  loss = 1.26477, accuracy = 0.4\n",
      "Epoch 40, CIFAR-10 Batch 1:  loss = 1.1974, accuracy = 0.4194\n",
      "Epoch 41, CIFAR-10 Batch 1:  loss = 1.22016, accuracy = 0.4298\n",
      "Epoch 42, CIFAR-10 Batch 1:  loss = 1.18133, accuracy = 0.4252\n",
      "Epoch 43, CIFAR-10 Batch 1:  loss = 1.19719, accuracy = 0.4202\n",
      "Epoch 44, CIFAR-10 Batch 1:  loss = 1.19943, accuracy = 0.4114\n",
      "Epoch 45, CIFAR-10 Batch 1:  loss = 1.17139, accuracy = 0.4224\n",
      "Epoch 46, CIFAR-10 Batch 1:  loss = 1.17209, accuracy = 0.4186\n",
      "Epoch 47, CIFAR-10 Batch 1:  loss = 1.13187, accuracy = 0.4218\n",
      "Epoch 48, CIFAR-10 Batch 1:  loss = 1.12423, accuracy = 0.4246\n",
      "Epoch 49, CIFAR-10 Batch 1:  loss = 1.13023, accuracy = 0.4364\n",
      "Epoch 50, CIFAR-10 Batch 1:  loss = 1.11422, accuracy = 0.417\n",
      "Epoch 51, CIFAR-10 Batch 1:  loss = 1.10577, accuracy = 0.4274\n",
      "Epoch 52, CIFAR-10 Batch 1:  loss = 1.14268, accuracy = 0.4164\n",
      "Epoch 53, CIFAR-10 Batch 1:  loss = 1.11407, accuracy = 0.423\n",
      "Epoch 54, CIFAR-10 Batch 1:  loss = 1.09412, accuracy = 0.4318\n",
      "Epoch 55, CIFAR-10 Batch 1:  loss = 1.07847, accuracy = 0.4266\n",
      "Epoch 56, CIFAR-10 Batch 1:  loss = 1.07034, accuracy = 0.4132\n",
      "Epoch 57, CIFAR-10 Batch 1:  loss = 1.05943, accuracy = 0.4312\n",
      "Epoch 58, CIFAR-10 Batch 1:  loss = 1.06925, accuracy = 0.4242\n",
      "Epoch 59, CIFAR-10 Batch 1:  loss = 1.05157, accuracy = 0.4334\n",
      "Epoch 60, CIFAR-10 Batch 1:  loss = 1.02865, accuracy = 0.4308\n",
      "Epoch 61, CIFAR-10 Batch 1:  loss = 1.02749, accuracy = 0.4288\n",
      "Epoch 62, CIFAR-10 Batch 1:  loss = 0.985182, accuracy = 0.4284\n",
      "Epoch 63, CIFAR-10 Batch 1:  loss = 1.0111, accuracy = 0.426\n",
      "Epoch 64, CIFAR-10 Batch 1:  loss = 0.971452, accuracy = 0.4352\n",
      "Epoch 65, CIFAR-10 Batch 1:  loss = 0.982776, accuracy = 0.434\n",
      "Epoch 66, CIFAR-10 Batch 1:  loss = 0.949327, accuracy = 0.4324\n",
      "Epoch 67, CIFAR-10 Batch 1:  loss = 0.976491, accuracy = 0.4296\n",
      "Epoch 68, CIFAR-10 Batch 1:  loss = 0.947699, accuracy = 0.436\n",
      "Epoch 69, CIFAR-10 Batch 1:  loss = 0.939879, accuracy = 0.4462\n",
      "Epoch 70, CIFAR-10 Batch 1:  loss = 0.925596, accuracy = 0.4378\n",
      "Epoch 71, CIFAR-10 Batch 1:  loss = 0.909791, accuracy = 0.4448\n",
      "Epoch 72, CIFAR-10 Batch 1:  loss = 0.910565, accuracy = 0.4492\n",
      "Epoch 73, CIFAR-10 Batch 1:  loss = 0.949333, accuracy = 0.4276\n",
      "Epoch 74, CIFAR-10 Batch 1:  loss = 0.928501, accuracy = 0.434\n",
      "Epoch 75, CIFAR-10 Batch 1:  loss = 0.891082, accuracy = 0.4404\n",
      "Epoch 76, CIFAR-10 Batch 1:  loss = 0.902454, accuracy = 0.4458\n",
      "Epoch 77, CIFAR-10 Batch 1:  loss = 0.885551, accuracy = 0.4486\n",
      "Epoch 78, CIFAR-10 Batch 1:  loss = 0.860948, accuracy = 0.451\n",
      "Epoch 79, CIFAR-10 Batch 1:  loss = 0.87439, accuracy = 0.447\n",
      "Epoch 80, CIFAR-10 Batch 1:  loss = 0.837018, accuracy = 0.444\n",
      "Epoch 81, CIFAR-10 Batch 1:  loss = 0.851818, accuracy = 0.4404\n",
      "Epoch 82, CIFAR-10 Batch 1:  loss = 0.846159, accuracy = 0.4332\n",
      "Epoch 83, CIFAR-10 Batch 1:  loss = 0.843429, accuracy = 0.4424\n",
      "Epoch 84, CIFAR-10 Batch 1:  loss = 0.842029, accuracy = 0.4484\n",
      "Epoch 85, CIFAR-10 Batch 1:  loss = 0.808449, accuracy = 0.442\n",
      "Epoch 86, CIFAR-10 Batch 1:  loss = 0.797586, accuracy = 0.452\n",
      "Epoch 87, CIFAR-10 Batch 1:  loss = 0.828202, accuracy = 0.4422\n",
      "Epoch 88, CIFAR-10 Batch 1:  loss = 0.798366, accuracy = 0.4476\n",
      "Epoch 89, CIFAR-10 Batch 1:  loss = 0.794722, accuracy = 0.4454\n",
      "Epoch 90, CIFAR-10 Batch 1:  loss = 0.806585, accuracy = 0.446\n",
      "Epoch 91, CIFAR-10 Batch 1:  loss = 0.788706, accuracy = 0.449\n",
      "Epoch 92, CIFAR-10 Batch 1:  loss = 0.794687, accuracy = 0.4356\n",
      "Epoch 93, CIFAR-10 Batch 1:  loss = 0.769646, accuracy = 0.4532\n",
      "Epoch 94, CIFAR-10 Batch 1:  loss = 0.769635, accuracy = 0.4452\n",
      "Epoch 95, CIFAR-10 Batch 1:  loss = 0.744281, accuracy = 0.4374\n",
      "Epoch 96, CIFAR-10 Batch 1:  loss = 0.770731, accuracy = 0.4324\n",
      "Epoch 97, CIFAR-10 Batch 1:  loss = 0.758536, accuracy = 0.4382\n",
      "Epoch 98, CIFAR-10 Batch 1:  loss = 0.769537, accuracy = 0.4362\n",
      "Epoch 99, CIFAR-10 Batch 1:  loss = 0.770678, accuracy = 0.4384\n",
      "Epoch 100, CIFAR-10 Batch 1:  loss = 0.736501, accuracy = 0.4408\n"
     ]
    }
   ],
   "source": [
    "\"\"\"\n",
    "DON'T MODIFY ANYTHING IN THIS CELL\n",
    "\"\"\"\n",
    "print('Checking the Training on a Single Batch...')\n",
    "with tf.Session() as sess:\n",
    "    # Initializing the variables\n",
    "    sess.run(tf.global_variables_initializer())\n",
    "    \n",
    "    # Training cycle\n",
    "    for epoch in range(epochs):\n",
    "        batch_i = 1\n",
    "        for batch_features, batch_labels in helper.load_preprocess_training_batch(batch_i, batch_size):\n",
    "            train_neural_network(sess, optimizer, keep_probability, batch_features, batch_labels)\n",
    "        print('Epoch {:>2}, CIFAR-10 Batch {}:  '.format(epoch + 1, batch_i), end='')\n",
    "        print_stats(sess, batch_features, batch_labels, cost, accuracy)"
   ]
  },
  {
   "cell_type": "markdown",
   "metadata": {
    "deletable": true,
    "editable": true
   },
   "source": [
    "### Fully Train the Model\n",
    "Now that you got a good accuracy with a single CIFAR-10 batch, try it with all five batches."
   ]
  },
  {
   "cell_type": "code",
   "execution_count": 28,
   "metadata": {
    "collapsed": false,
    "deletable": true,
    "editable": true
   },
   "outputs": [
    {
     "name": "stdout",
     "output_type": "stream",
     "text": [
      "Training...\n",
      "Epoch  1, CIFAR-10 Batch 1:  loss = 2.29156, accuracy = 0.1534\n",
      "Epoch  1, CIFAR-10 Batch 2:  loss = 2.25503, accuracy = 0.2118\n",
      "Epoch  1, CIFAR-10 Batch 3:  loss = 2.04352, accuracy = 0.2504\n",
      "Epoch  1, CIFAR-10 Batch 4:  loss = 2.00611, accuracy = 0.2624\n",
      "Epoch  1, CIFAR-10 Batch 5:  loss = 1.96651, accuracy = 0.295\n",
      "Epoch  2, CIFAR-10 Batch 1:  loss = 2.10682, accuracy = 0.3162\n",
      "Epoch  2, CIFAR-10 Batch 2:  loss = 1.94041, accuracy = 0.3202\n",
      "Epoch  2, CIFAR-10 Batch 3:  loss = 1.71893, accuracy = 0.3498\n",
      "Epoch  2, CIFAR-10 Batch 4:  loss = 1.77726, accuracy = 0.3552\n",
      "Epoch  2, CIFAR-10 Batch 5:  loss = 1.83797, accuracy = 0.353\n",
      "Epoch  3, CIFAR-10 Batch 1:  loss = 2.00719, accuracy = 0.349\n",
      "Epoch  3, CIFAR-10 Batch 2:  loss = 1.89583, accuracy = 0.369\n",
      "Epoch  3, CIFAR-10 Batch 3:  loss = 1.5784, accuracy = 0.3822\n",
      "Epoch  3, CIFAR-10 Batch 4:  loss = 1.70779, accuracy = 0.3856\n",
      "Epoch  3, CIFAR-10 Batch 5:  loss = 1.77103, accuracy = 0.383\n",
      "Epoch  4, CIFAR-10 Batch 1:  loss = 1.96063, accuracy = 0.3684\n",
      "Epoch  4, CIFAR-10 Batch 2:  loss = 1.83017, accuracy = 0.378\n",
      "Epoch  4, CIFAR-10 Batch 3:  loss = 1.49688, accuracy = 0.3866\n",
      "Epoch  4, CIFAR-10 Batch 4:  loss = 1.635, accuracy = 0.3864\n",
      "Epoch  4, CIFAR-10 Batch 5:  loss = 1.69636, accuracy = 0.3968\n",
      "Epoch  5, CIFAR-10 Batch 1:  loss = 1.90193, accuracy = 0.4008\n",
      "Epoch  5, CIFAR-10 Batch 2:  loss = 1.72859, accuracy = 0.4088\n",
      "Epoch  5, CIFAR-10 Batch 3:  loss = 1.44812, accuracy = 0.401\n",
      "Epoch  5, CIFAR-10 Batch 4:  loss = 1.60281, accuracy = 0.4052\n",
      "Epoch  5, CIFAR-10 Batch 5:  loss = 1.63521, accuracy = 0.4022\n",
      "Epoch  6, CIFAR-10 Batch 1:  loss = 1.7839, accuracy = 0.4164\n",
      "Epoch  6, CIFAR-10 Batch 2:  loss = 1.65247, accuracy = 0.4234\n",
      "Epoch  6, CIFAR-10 Batch 3:  loss = 1.38108, accuracy = 0.4148\n",
      "Epoch  6, CIFAR-10 Batch 4:  loss = 1.57069, accuracy = 0.4146\n",
      "Epoch  6, CIFAR-10 Batch 5:  loss = 1.60087, accuracy = 0.4214\n",
      "Epoch  7, CIFAR-10 Batch 1:  loss = 1.79405, accuracy = 0.4186\n",
      "Epoch  7, CIFAR-10 Batch 2:  loss = 1.61557, accuracy = 0.4268\n",
      "Epoch  7, CIFAR-10 Batch 3:  loss = 1.34473, accuracy = 0.431\n",
      "Epoch  7, CIFAR-10 Batch 4:  loss = 1.5323, accuracy = 0.4282\n",
      "Epoch  7, CIFAR-10 Batch 5:  loss = 1.57385, accuracy = 0.4202\n",
      "Epoch  8, CIFAR-10 Batch 1:  loss = 1.74909, accuracy = 0.427\n",
      "Epoch  8, CIFAR-10 Batch 2:  loss = 1.57336, accuracy = 0.4304\n",
      "Epoch  8, CIFAR-10 Batch 3:  loss = 1.3651, accuracy = 0.4252\n",
      "Epoch  8, CIFAR-10 Batch 4:  loss = 1.49695, accuracy = 0.4356\n",
      "Epoch  8, CIFAR-10 Batch 5:  loss = 1.52644, accuracy = 0.44\n",
      "Epoch  9, CIFAR-10 Batch 1:  loss = 1.74091, accuracy = 0.4342\n",
      "Epoch  9, CIFAR-10 Batch 2:  loss = 1.51953, accuracy = 0.4334\n",
      "Epoch  9, CIFAR-10 Batch 3:  loss = 1.32348, accuracy = 0.4372\n",
      "Epoch  9, CIFAR-10 Batch 4:  loss = 1.42654, accuracy = 0.4372\n",
      "Epoch  9, CIFAR-10 Batch 5:  loss = 1.51731, accuracy = 0.4436\n",
      "Epoch 10, CIFAR-10 Batch 1:  loss = 1.60619, accuracy = 0.4398\n",
      "Epoch 10, CIFAR-10 Batch 2:  loss = 1.51312, accuracy = 0.4466\n",
      "Epoch 10, CIFAR-10 Batch 3:  loss = 1.28072, accuracy = 0.4456\n",
      "Epoch 10, CIFAR-10 Batch 4:  loss = 1.41926, accuracy = 0.4482\n",
      "Epoch 10, CIFAR-10 Batch 5:  loss = 1.50768, accuracy = 0.443\n",
      "Epoch 11, CIFAR-10 Batch 1:  loss = 1.59, accuracy = 0.441\n",
      "Epoch 11, CIFAR-10 Batch 2:  loss = 1.49241, accuracy = 0.4466\n",
      "Epoch 11, CIFAR-10 Batch 3:  loss = 1.257, accuracy = 0.4454\n",
      "Epoch 11, CIFAR-10 Batch 4:  loss = 1.43332, accuracy = 0.4436\n",
      "Epoch 11, CIFAR-10 Batch 5:  loss = 1.48289, accuracy = 0.4548\n",
      "Epoch 12, CIFAR-10 Batch 1:  loss = 1.49725, accuracy = 0.4554\n",
      "Epoch 12, CIFAR-10 Batch 2:  loss = 1.46397, accuracy = 0.4498\n",
      "Epoch 12, CIFAR-10 Batch 3:  loss = 1.24673, accuracy = 0.4544\n",
      "Epoch 12, CIFAR-10 Batch 4:  loss = 1.39034, accuracy = 0.4386\n",
      "Epoch 12, CIFAR-10 Batch 5:  loss = 1.44452, accuracy = 0.4534\n",
      "Epoch 13, CIFAR-10 Batch 1:  loss = 1.49856, accuracy = 0.4538\n",
      "Epoch 13, CIFAR-10 Batch 2:  loss = 1.42776, accuracy = 0.4556\n",
      "Epoch 13, CIFAR-10 Batch 3:  loss = 1.2585, accuracy = 0.4546\n",
      "Epoch 13, CIFAR-10 Batch 4:  loss = 1.3663, accuracy = 0.4598\n",
      "Epoch 13, CIFAR-10 Batch 5:  loss = 1.40838, accuracy = 0.4592\n",
      "Epoch 14, CIFAR-10 Batch 1:  loss = 1.46292, accuracy = 0.4606\n",
      "Epoch 14, CIFAR-10 Batch 2:  loss = 1.43411, accuracy = 0.4672\n",
      "Epoch 14, CIFAR-10 Batch 3:  loss = 1.2133, accuracy = 0.4618\n",
      "Epoch 14, CIFAR-10 Batch 4:  loss = 1.3611, accuracy = 0.471\n",
      "Epoch 14, CIFAR-10 Batch 5:  loss = 1.397, accuracy = 0.4638\n",
      "Epoch 15, CIFAR-10 Batch 1:  loss = 1.44835, accuracy = 0.482\n",
      "Epoch 15, CIFAR-10 Batch 2:  loss = 1.4026, accuracy = 0.4688\n",
      "Epoch 15, CIFAR-10 Batch 3:  loss = 1.17414, accuracy = 0.4706\n",
      "Epoch 15, CIFAR-10 Batch 4:  loss = 1.32156, accuracy = 0.4638\n",
      "Epoch 15, CIFAR-10 Batch 5:  loss = 1.37859, accuracy = 0.4696\n",
      "Epoch 16, CIFAR-10 Batch 1:  loss = 1.40743, accuracy = 0.4748\n",
      "Epoch 16, CIFAR-10 Batch 2:  loss = 1.36035, accuracy = 0.4726\n",
      "Epoch 16, CIFAR-10 Batch 3:  loss = 1.17047, accuracy = 0.4776\n",
      "Epoch 16, CIFAR-10 Batch 4:  loss = 1.32446, accuracy = 0.474\n",
      "Epoch 16, CIFAR-10 Batch 5:  loss = 1.38794, accuracy = 0.4722\n",
      "Epoch 17, CIFAR-10 Batch 1:  loss = 1.41276, accuracy = 0.4758\n",
      "Epoch 17, CIFAR-10 Batch 2:  loss = 1.38974, accuracy = 0.4716\n",
      "Epoch 17, CIFAR-10 Batch 3:  loss = 1.15101, accuracy = 0.4782\n",
      "Epoch 17, CIFAR-10 Batch 4:  loss = 1.32317, accuracy = 0.4728\n",
      "Epoch 17, CIFAR-10 Batch 5:  loss = 1.31182, accuracy = 0.4744\n",
      "Epoch 18, CIFAR-10 Batch 1:  loss = 1.36357, accuracy = 0.476\n",
      "Epoch 18, CIFAR-10 Batch 2:  loss = 1.31305, accuracy = 0.481\n",
      "Epoch 18, CIFAR-10 Batch 3:  loss = 1.13643, accuracy = 0.4736\n",
      "Epoch 18, CIFAR-10 Batch 4:  loss = 1.33676, accuracy = 0.4706\n",
      "Epoch 18, CIFAR-10 Batch 5:  loss = 1.32713, accuracy = 0.4842\n",
      "Epoch 19, CIFAR-10 Batch 1:  loss = 1.31724, accuracy = 0.4814\n",
      "Epoch 19, CIFAR-10 Batch 2:  loss = 1.3115, accuracy = 0.481\n",
      "Epoch 19, CIFAR-10 Batch 3:  loss = 1.13234, accuracy = 0.4768\n",
      "Epoch 19, CIFAR-10 Batch 4:  loss = 1.26668, accuracy = 0.483\n",
      "Epoch 19, CIFAR-10 Batch 5:  loss = 1.34156, accuracy = 0.4782\n",
      "Epoch 20, CIFAR-10 Batch 1:  loss = 1.32214, accuracy = 0.4774\n",
      "Epoch 20, CIFAR-10 Batch 2:  loss = 1.31805, accuracy = 0.4786\n",
      "Epoch 20, CIFAR-10 Batch 3:  loss = 1.09726, accuracy = 0.478\n",
      "Epoch 20, CIFAR-10 Batch 4:  loss = 1.26932, accuracy = 0.4824\n",
      "Epoch 20, CIFAR-10 Batch 5:  loss = 1.30286, accuracy = 0.4838\n",
      "Epoch 21, CIFAR-10 Batch 1:  loss = 1.26225, accuracy = 0.4828\n",
      "Epoch 21, CIFAR-10 Batch 2:  loss = 1.25544, accuracy = 0.4908\n",
      "Epoch 21, CIFAR-10 Batch 3:  loss = 1.08802, accuracy = 0.4836\n",
      "Epoch 21, CIFAR-10 Batch 4:  loss = 1.2531, accuracy = 0.4896\n",
      "Epoch 21, CIFAR-10 Batch 5:  loss = 1.29903, accuracy = 0.4868\n",
      "Epoch 22, CIFAR-10 Batch 1:  loss = 1.22274, accuracy = 0.4968\n",
      "Epoch 22, CIFAR-10 Batch 2:  loss = 1.23607, accuracy = 0.4986\n",
      "Epoch 22, CIFAR-10 Batch 3:  loss = 1.06787, accuracy = 0.488\n",
      "Epoch 22, CIFAR-10 Batch 4:  loss = 1.23468, accuracy = 0.4976\n",
      "Epoch 22, CIFAR-10 Batch 5:  loss = 1.24561, accuracy = 0.4956\n",
      "Epoch 23, CIFAR-10 Batch 1:  loss = 1.21689, accuracy = 0.4984\n",
      "Epoch 23, CIFAR-10 Batch 2:  loss = 1.22899, accuracy = 0.4884\n",
      "Epoch 23, CIFAR-10 Batch 3:  loss = 1.0799, accuracy = 0.485\n",
      "Epoch 23, CIFAR-10 Batch 4:  loss = 1.27326, accuracy = 0.487\n",
      "Epoch 23, CIFAR-10 Batch 5:  loss = 1.25757, accuracy = 0.4882\n",
      "Epoch 24, CIFAR-10 Batch 1:  loss = 1.22139, accuracy = 0.4952\n",
      "Epoch 24, CIFAR-10 Batch 2:  loss = 1.24736, accuracy = 0.4908\n",
      "Epoch 24, CIFAR-10 Batch 3:  loss = 1.03426, accuracy = 0.4826\n",
      "Epoch 24, CIFAR-10 Batch 4:  loss = 1.21346, accuracy = 0.4936\n",
      "Epoch 24, CIFAR-10 Batch 5:  loss = 1.26487, accuracy = 0.4846\n",
      "Epoch 25, CIFAR-10 Batch 1:  loss = 1.19655, accuracy = 0.4914\n",
      "Epoch 25, CIFAR-10 Batch 2:  loss = 1.22529, accuracy = 0.498\n",
      "Epoch 25, CIFAR-10 Batch 3:  loss = 1.05847, accuracy = 0.5022\n",
      "Epoch 25, CIFAR-10 Batch 4:  loss = 1.18999, accuracy = 0.4968\n",
      "Epoch 25, CIFAR-10 Batch 5:  loss = 1.19588, accuracy = 0.4896\n",
      "Epoch 26, CIFAR-10 Batch 1:  loss = 1.18611, accuracy = 0.5018\n",
      "Epoch 26, CIFAR-10 Batch 2:  loss = 1.18272, accuracy = 0.505\n",
      "Epoch 26, CIFAR-10 Batch 3:  loss = 1.02072, accuracy = 0.4974\n",
      "Epoch 26, CIFAR-10 Batch 4:  loss = 1.17605, accuracy = 0.5026\n",
      "Epoch 26, CIFAR-10 Batch 5:  loss = 1.1923, accuracy = 0.5028\n",
      "Epoch 27, CIFAR-10 Batch 1:  loss = 1.19057, accuracy = 0.5012\n",
      "Epoch 27, CIFAR-10 Batch 2:  loss = 1.23214, accuracy = 0.5068\n",
      "Epoch 27, CIFAR-10 Batch 3:  loss = 1.01385, accuracy = 0.4984\n",
      "Epoch 27, CIFAR-10 Batch 4:  loss = 1.166, accuracy = 0.4986\n",
      "Epoch 27, CIFAR-10 Batch 5:  loss = 1.22922, accuracy = 0.492\n",
      "Epoch 28, CIFAR-10 Batch 1:  loss = 1.17712, accuracy = 0.5042\n",
      "Epoch 28, CIFAR-10 Batch 2:  loss = 1.19713, accuracy = 0.5038\n",
      "Epoch 28, CIFAR-10 Batch 3:  loss = 0.979968, accuracy = 0.509\n",
      "Epoch 28, CIFAR-10 Batch 4:  loss = 1.15411, accuracy = 0.498\n",
      "Epoch 28, CIFAR-10 Batch 5:  loss = 1.20568, accuracy = 0.494\n",
      "Epoch 29, CIFAR-10 Batch 1:  loss = 1.18129, accuracy = 0.5078\n",
      "Epoch 29, CIFAR-10 Batch 2:  loss = 1.1215, accuracy = 0.501\n",
      "Epoch 29, CIFAR-10 Batch 3:  loss = 0.983893, accuracy = 0.4924\n",
      "Epoch 29, CIFAR-10 Batch 4:  loss = 1.15166, accuracy = 0.5084\n",
      "Epoch 29, CIFAR-10 Batch 5:  loss = 1.17754, accuracy = 0.5068\n",
      "Epoch 30, CIFAR-10 Batch 1:  loss = 1.09463, accuracy = 0.5122\n",
      "Epoch 30, CIFAR-10 Batch 2:  loss = 1.12543, accuracy = 0.5126\n",
      "Epoch 30, CIFAR-10 Batch 3:  loss = 1.01032, accuracy = 0.5084\n",
      "Epoch 30, CIFAR-10 Batch 4:  loss = 1.17905, accuracy = 0.5088\n",
      "Epoch 30, CIFAR-10 Batch 5:  loss = 1.18562, accuracy = 0.5014\n",
      "Epoch 31, CIFAR-10 Batch 1:  loss = 1.13332, accuracy = 0.5104\n",
      "Epoch 31, CIFAR-10 Batch 2:  loss = 1.11467, accuracy = 0.5196\n",
      "Epoch 31, CIFAR-10 Batch 3:  loss = 0.980543, accuracy = 0.4954\n",
      "Epoch 31, CIFAR-10 Batch 4:  loss = 1.13488, accuracy = 0.5114\n",
      "Epoch 31, CIFAR-10 Batch 5:  loss = 1.15429, accuracy = 0.5026\n",
      "Epoch 32, CIFAR-10 Batch 1:  loss = 1.06744, accuracy = 0.5212\n",
      "Epoch 32, CIFAR-10 Batch 2:  loss = 1.07911, accuracy = 0.5118\n",
      "Epoch 32, CIFAR-10 Batch 3:  loss = 0.941873, accuracy = 0.5102\n",
      "Epoch 32, CIFAR-10 Batch 4:  loss = 1.11039, accuracy = 0.5244\n",
      "Epoch 32, CIFAR-10 Batch 5:  loss = 1.13022, accuracy = 0.5092\n",
      "Epoch 33, CIFAR-10 Batch 1:  loss = 1.06639, accuracy = 0.5206\n",
      "Epoch 33, CIFAR-10 Batch 2:  loss = 1.09947, accuracy = 0.5152\n",
      "Epoch 33, CIFAR-10 Batch 3:  loss = 0.899613, accuracy = 0.5038\n",
      "Epoch 33, CIFAR-10 Batch 4:  loss = 1.12193, accuracy = 0.5092\n",
      "Epoch 33, CIFAR-10 Batch 5:  loss = 1.14407, accuracy = 0.5018\n",
      "Epoch 34, CIFAR-10 Batch 1:  loss = 1.08944, accuracy = 0.517\n",
      "Epoch 34, CIFAR-10 Batch 2:  loss = 1.0774, accuracy = 0.513\n",
      "Epoch 34, CIFAR-10 Batch 3:  loss = 0.906353, accuracy = 0.5194\n",
      "Epoch 34, CIFAR-10 Batch 4:  loss = 1.1006, accuracy = 0.519\n",
      "Epoch 34, CIFAR-10 Batch 5:  loss = 1.10337, accuracy = 0.5124\n",
      "Epoch 35, CIFAR-10 Batch 1:  loss = 1.06949, accuracy = 0.5222\n",
      "Epoch 35, CIFAR-10 Batch 2:  loss = 1.05279, accuracy = 0.5252\n",
      "Epoch 35, CIFAR-10 Batch 3:  loss = 0.915888, accuracy = 0.5056\n",
      "Epoch 35, CIFAR-10 Batch 4:  loss = 1.11443, accuracy = 0.5136\n",
      "Epoch 35, CIFAR-10 Batch 5:  loss = 1.10526, accuracy = 0.517\n",
      "Epoch 36, CIFAR-10 Batch 1:  loss = 1.0616, accuracy = 0.5168\n",
      "Epoch 36, CIFAR-10 Batch 2:  loss = 1.06324, accuracy = 0.5102\n",
      "Epoch 36, CIFAR-10 Batch 3:  loss = 0.928216, accuracy = 0.5108\n",
      "Epoch 36, CIFAR-10 Batch 4:  loss = 1.10956, accuracy = 0.5138\n",
      "Epoch 36, CIFAR-10 Batch 5:  loss = 1.08814, accuracy = 0.5156\n",
      "Epoch 37, CIFAR-10 Batch 1:  loss = 1.05102, accuracy = 0.5246\n",
      "Epoch 37, CIFAR-10 Batch 2:  loss = 1.07086, accuracy = 0.5156\n",
      "Epoch 37, CIFAR-10 Batch 3:  loss = 0.893939, accuracy = 0.517\n",
      "Epoch 37, CIFAR-10 Batch 4:  loss = 1.08331, accuracy = 0.524\n",
      "Epoch 37, CIFAR-10 Batch 5:  loss = 1.10288, accuracy = 0.5056\n",
      "Epoch 38, CIFAR-10 Batch 1:  loss = 1.05089, accuracy = 0.5232\n",
      "Epoch 38, CIFAR-10 Batch 2:  loss = 1.03528, accuracy = 0.5186\n",
      "Epoch 38, CIFAR-10 Batch 3:  loss = 0.878712, accuracy = 0.521\n",
      "Epoch 38, CIFAR-10 Batch 4:  loss = 1.05703, accuracy = 0.5194\n",
      "Epoch 38, CIFAR-10 Batch 5:  loss = 1.0773, accuracy = 0.517\n",
      "Epoch 39, CIFAR-10 Batch 1:  loss = 1.03651, accuracy = 0.5262\n",
      "Epoch 39, CIFAR-10 Batch 2:  loss = 1.05307, accuracy = 0.5236\n",
      "Epoch 39, CIFAR-10 Batch 3:  loss = 0.861983, accuracy = 0.5208\n",
      "Epoch 39, CIFAR-10 Batch 4:  loss = 1.07418, accuracy = 0.5186\n",
      "Epoch 39, CIFAR-10 Batch 5:  loss = 1.05105, accuracy = 0.5218\n",
      "Epoch 40, CIFAR-10 Batch 1:  loss = 0.982558, accuracy = 0.5292\n",
      "Epoch 40, CIFAR-10 Batch 2:  loss = 0.996466, accuracy = 0.5216\n",
      "Epoch 40, CIFAR-10 Batch 3:  loss = 0.869829, accuracy = 0.5278\n",
      "Epoch 40, CIFAR-10 Batch 4:  loss = 1.03595, accuracy = 0.517\n",
      "Epoch 40, CIFAR-10 Batch 5:  loss = 1.06297, accuracy = 0.5266\n",
      "Epoch 41, CIFAR-10 Batch 1:  loss = 1.0165, accuracy = 0.5226\n",
      "Epoch 41, CIFAR-10 Batch 2:  loss = 0.988883, accuracy = 0.529\n",
      "Epoch 41, CIFAR-10 Batch 3:  loss = 0.870405, accuracy = 0.5128\n",
      "Epoch 41, CIFAR-10 Batch 4:  loss = 1.0148, accuracy = 0.5278\n",
      "Epoch 41, CIFAR-10 Batch 5:  loss = 1.04989, accuracy = 0.5202\n",
      "Epoch 42, CIFAR-10 Batch 1:  loss = 1.02743, accuracy = 0.5278\n",
      "Epoch 42, CIFAR-10 Batch 2:  loss = 0.994235, accuracy = 0.5244\n",
      "Epoch 42, CIFAR-10 Batch 3:  loss = 0.8548, accuracy = 0.5286\n",
      "Epoch 42, CIFAR-10 Batch 4:  loss = 1.0208, accuracy = 0.53\n",
      "Epoch 42, CIFAR-10 Batch 5:  loss = 1.03439, accuracy = 0.5184\n",
      "Epoch 43, CIFAR-10 Batch 1:  loss = 1.03354, accuracy = 0.5308\n",
      "Epoch 43, CIFAR-10 Batch 2:  loss = 1.03029, accuracy = 0.514\n",
      "Epoch 43, CIFAR-10 Batch 3:  loss = 0.843067, accuracy = 0.5152\n",
      "Epoch 43, CIFAR-10 Batch 4:  loss = 1.04322, accuracy = 0.528\n",
      "Epoch 43, CIFAR-10 Batch 5:  loss = 1.03145, accuracy = 0.524\n",
      "Epoch 44, CIFAR-10 Batch 1:  loss = 0.989058, accuracy = 0.5314\n",
      "Epoch 44, CIFAR-10 Batch 2:  loss = 0.995957, accuracy = 0.5252\n",
      "Epoch 44, CIFAR-10 Batch 3:  loss = 0.895174, accuracy = 0.5168\n",
      "Epoch 44, CIFAR-10 Batch 4:  loss = 1.00956, accuracy = 0.5316\n",
      "Epoch 44, CIFAR-10 Batch 5:  loss = 1.01763, accuracy = 0.5192\n",
      "Epoch 45, CIFAR-10 Batch 1:  loss = 1.01457, accuracy = 0.5278\n",
      "Epoch 45, CIFAR-10 Batch 2:  loss = 0.99191, accuracy = 0.5208\n",
      "Epoch 45, CIFAR-10 Batch 3:  loss = 0.831703, accuracy = 0.536\n",
      "Epoch 45, CIFAR-10 Batch 4:  loss = 1.00892, accuracy = 0.5296\n",
      "Epoch 45, CIFAR-10 Batch 5:  loss = 1.05507, accuracy = 0.5082\n",
      "Epoch 46, CIFAR-10 Batch 1:  loss = 0.999148, accuracy = 0.5316\n",
      "Epoch 46, CIFAR-10 Batch 2:  loss = 0.997159, accuracy = 0.5098\n",
      "Epoch 46, CIFAR-10 Batch 3:  loss = 0.848387, accuracy = 0.521\n",
      "Epoch 46, CIFAR-10 Batch 4:  loss = 0.987126, accuracy = 0.5358\n",
      "Epoch 46, CIFAR-10 Batch 5:  loss = 1.02254, accuracy = 0.5208\n",
      "Epoch 47, CIFAR-10 Batch 1:  loss = 1.00015, accuracy = 0.5314\n",
      "Epoch 47, CIFAR-10 Batch 2:  loss = 0.951629, accuracy = 0.5216\n",
      "Epoch 47, CIFAR-10 Batch 3:  loss = 0.800662, accuracy = 0.5192\n",
      "Epoch 47, CIFAR-10 Batch 4:  loss = 0.987155, accuracy = 0.5344\n",
      "Epoch 47, CIFAR-10 Batch 5:  loss = 1.00515, accuracy = 0.5252\n",
      "Epoch 48, CIFAR-10 Batch 1:  loss = 0.968537, accuracy = 0.5318\n",
      "Epoch 48, CIFAR-10 Batch 2:  loss = 0.9982, accuracy = 0.514\n",
      "Epoch 48, CIFAR-10 Batch 3:  loss = 0.795144, accuracy = 0.5322\n",
      "Epoch 48, CIFAR-10 Batch 4:  loss = 0.954881, accuracy = 0.5324\n",
      "Epoch 48, CIFAR-10 Batch 5:  loss = 1.02062, accuracy = 0.5274\n",
      "Epoch 49, CIFAR-10 Batch 1:  loss = 0.988699, accuracy = 0.5236\n",
      "Epoch 49, CIFAR-10 Batch 2:  loss = 0.927832, accuracy = 0.5242\n",
      "Epoch 49, CIFAR-10 Batch 3:  loss = 0.813978, accuracy = 0.5216\n",
      "Epoch 49, CIFAR-10 Batch 4:  loss = 0.95697, accuracy = 0.5296\n",
      "Epoch 49, CIFAR-10 Batch 5:  loss = 0.96822, accuracy = 0.528\n",
      "Epoch 50, CIFAR-10 Batch 1:  loss = 0.962936, accuracy = 0.5348\n",
      "Epoch 50, CIFAR-10 Batch 2:  loss = 0.957868, accuracy = 0.5214\n",
      "Epoch 50, CIFAR-10 Batch 3:  loss = 0.804415, accuracy = 0.5336\n",
      "Epoch 50, CIFAR-10 Batch 4:  loss = 0.951593, accuracy = 0.537\n",
      "Epoch 50, CIFAR-10 Batch 5:  loss = 1.00405, accuracy = 0.5182\n",
      "Epoch 51, CIFAR-10 Batch 1:  loss = 0.968365, accuracy = 0.539\n",
      "Epoch 51, CIFAR-10 Batch 2:  loss = 0.939317, accuracy = 0.514\n",
      "Epoch 51, CIFAR-10 Batch 3:  loss = 0.793518, accuracy = 0.5256\n",
      "Epoch 51, CIFAR-10 Batch 4:  loss = 0.974403, accuracy = 0.5278\n",
      "Epoch 51, CIFAR-10 Batch 5:  loss = 0.986207, accuracy = 0.5266\n",
      "Epoch 52, CIFAR-10 Batch 1:  loss = 0.927545, accuracy = 0.5378\n",
      "Epoch 52, CIFAR-10 Batch 2:  loss = 0.951672, accuracy = 0.5082\n",
      "Epoch 52, CIFAR-10 Batch 3:  loss = 0.768879, accuracy = 0.5328\n",
      "Epoch 52, CIFAR-10 Batch 4:  loss = 0.954361, accuracy = 0.5302\n",
      "Epoch 52, CIFAR-10 Batch 5:  loss = 0.959151, accuracy = 0.5266\n",
      "Epoch 53, CIFAR-10 Batch 1:  loss = 0.934529, accuracy = 0.5336\n",
      "Epoch 53, CIFAR-10 Batch 2:  loss = 0.900196, accuracy = 0.5236\n",
      "Epoch 53, CIFAR-10 Batch 3:  loss = 0.779795, accuracy = 0.5314\n",
      "Epoch 53, CIFAR-10 Batch 4:  loss = 0.909755, accuracy = 0.5378\n",
      "Epoch 53, CIFAR-10 Batch 5:  loss = 0.994385, accuracy = 0.5242\n",
      "Epoch 54, CIFAR-10 Batch 1:  loss = 0.92926, accuracy = 0.54\n",
      "Epoch 54, CIFAR-10 Batch 2:  loss = 0.92623, accuracy = 0.5228\n",
      "Epoch 54, CIFAR-10 Batch 3:  loss = 0.761198, accuracy = 0.5278\n",
      "Epoch 54, CIFAR-10 Batch 4:  loss = 0.91042, accuracy = 0.5294\n",
      "Epoch 54, CIFAR-10 Batch 5:  loss = 0.962468, accuracy = 0.525\n",
      "Epoch 55, CIFAR-10 Batch 1:  loss = 0.918937, accuracy = 0.539\n",
      "Epoch 55, CIFAR-10 Batch 2:  loss = 0.896741, accuracy = 0.5334\n",
      "Epoch 55, CIFAR-10 Batch 3:  loss = 0.776961, accuracy = 0.5284\n",
      "Epoch 55, CIFAR-10 Batch 4:  loss = 0.89614, accuracy = 0.5364\n",
      "Epoch 55, CIFAR-10 Batch 5:  loss = 0.943017, accuracy = 0.5302\n",
      "Epoch 56, CIFAR-10 Batch 1:  loss = 0.960172, accuracy = 0.5416\n",
      "Epoch 56, CIFAR-10 Batch 2:  loss = 0.888869, accuracy = 0.5192\n",
      "Epoch 56, CIFAR-10 Batch 3:  loss = 0.759541, accuracy = 0.5282\n",
      "Epoch 56, CIFAR-10 Batch 4:  loss = 0.901122, accuracy = 0.5382\n",
      "Epoch 56, CIFAR-10 Batch 5:  loss = 0.969658, accuracy = 0.5276\n",
      "Epoch 57, CIFAR-10 Batch 1:  loss = 0.920669, accuracy = 0.5422\n",
      "Epoch 57, CIFAR-10 Batch 2:  loss = 0.900529, accuracy = 0.5314\n",
      "Epoch 57, CIFAR-10 Batch 3:  loss = 0.733178, accuracy = 0.529\n",
      "Epoch 57, CIFAR-10 Batch 4:  loss = 0.893926, accuracy = 0.5388\n",
      "Epoch 57, CIFAR-10 Batch 5:  loss = 0.929358, accuracy = 0.5272\n",
      "Epoch 58, CIFAR-10 Batch 1:  loss = 0.953247, accuracy = 0.5362\n",
      "Epoch 58, CIFAR-10 Batch 2:  loss = 0.890191, accuracy = 0.5394\n",
      "Epoch 58, CIFAR-10 Batch 3:  loss = 0.778329, accuracy = 0.5252\n",
      "Epoch 58, CIFAR-10 Batch 4:  loss = 0.902471, accuracy = 0.5392\n",
      "Epoch 58, CIFAR-10 Batch 5:  loss = 0.897829, accuracy = 0.5296\n",
      "Epoch 59, CIFAR-10 Batch 1:  loss = 0.92035, accuracy = 0.5438\n",
      "Epoch 59, CIFAR-10 Batch 2:  loss = 0.877341, accuracy = 0.5322\n",
      "Epoch 59, CIFAR-10 Batch 3:  loss = 0.68952, accuracy = 0.5328\n",
      "Epoch 59, CIFAR-10 Batch 4:  loss = 0.91838, accuracy = 0.5276\n",
      "Epoch 59, CIFAR-10 Batch 5:  loss = 0.908814, accuracy = 0.5364\n",
      "Epoch 60, CIFAR-10 Batch 1:  loss = 0.909703, accuracy = 0.5352\n",
      "Epoch 60, CIFAR-10 Batch 2:  loss = 0.884789, accuracy = 0.5288\n",
      "Epoch 60, CIFAR-10 Batch 3:  loss = 0.714931, accuracy = 0.5372\n",
      "Epoch 60, CIFAR-10 Batch 4:  loss = 0.892529, accuracy = 0.518\n",
      "Epoch 60, CIFAR-10 Batch 5:  loss = 0.945577, accuracy = 0.523\n",
      "Epoch 61, CIFAR-10 Batch 1:  loss = 0.907877, accuracy = 0.5284\n",
      "Epoch 61, CIFAR-10 Batch 2:  loss = 0.872166, accuracy = 0.5356\n",
      "Epoch 61, CIFAR-10 Batch 3:  loss = 0.758036, accuracy = 0.5226\n",
      "Epoch 61, CIFAR-10 Batch 4:  loss = 0.886423, accuracy = 0.5354\n",
      "Epoch 61, CIFAR-10 Batch 5:  loss = 0.923137, accuracy = 0.5298\n",
      "Epoch 62, CIFAR-10 Batch 1:  loss = 0.872653, accuracy = 0.5394\n",
      "Epoch 62, CIFAR-10 Batch 2:  loss = 0.868581, accuracy = 0.5294\n",
      "Epoch 62, CIFAR-10 Batch 3:  loss = 0.69344, accuracy = 0.5348\n",
      "Epoch 62, CIFAR-10 Batch 4:  loss = 0.903595, accuracy = 0.5366\n",
      "Epoch 62, CIFAR-10 Batch 5:  loss = 0.939306, accuracy = 0.5242\n",
      "Epoch 63, CIFAR-10 Batch 1:  loss = 0.901955, accuracy = 0.5374\n",
      "Epoch 63, CIFAR-10 Batch 2:  loss = 0.846793, accuracy = 0.533\n",
      "Epoch 63, CIFAR-10 Batch 3:  loss = 0.700755, accuracy = 0.524\n",
      "Epoch 63, CIFAR-10 Batch 4:  loss = 0.90091, accuracy = 0.5282\n",
      "Epoch 63, CIFAR-10 Batch 5:  loss = 0.910518, accuracy = 0.527\n",
      "Epoch 64, CIFAR-10 Batch 1:  loss = 0.923036, accuracy = 0.5414\n",
      "Epoch 64, CIFAR-10 Batch 2:  loss = 0.84513, accuracy = 0.535\n",
      "Epoch 64, CIFAR-10 Batch 3:  loss = 0.718649, accuracy = 0.5362\n",
      "Epoch 64, CIFAR-10 Batch 4:  loss = 0.886711, accuracy = 0.5334\n",
      "Epoch 64, CIFAR-10 Batch 5:  loss = 0.890464, accuracy = 0.5358\n",
      "Epoch 65, CIFAR-10 Batch 1:  loss = 0.902858, accuracy = 0.5312\n",
      "Epoch 65, CIFAR-10 Batch 2:  loss = 0.848762, accuracy = 0.5292\n",
      "Epoch 65, CIFAR-10 Batch 3:  loss = 0.700301, accuracy = 0.5328\n",
      "Epoch 65, CIFAR-10 Batch 4:  loss = 0.904834, accuracy = 0.537\n",
      "Epoch 65, CIFAR-10 Batch 5:  loss = 0.96462, accuracy = 0.5202\n",
      "Epoch 66, CIFAR-10 Batch 1:  loss = 0.931862, accuracy = 0.5366\n",
      "Epoch 66, CIFAR-10 Batch 2:  loss = 0.859961, accuracy = 0.5226\n",
      "Epoch 66, CIFAR-10 Batch 3:  loss = 0.681831, accuracy = 0.532\n",
      "Epoch 66, CIFAR-10 Batch 4:  loss = 0.940009, accuracy = 0.5294\n",
      "Epoch 66, CIFAR-10 Batch 5:  loss = 0.904076, accuracy = 0.5286\n",
      "Epoch 67, CIFAR-10 Batch 1:  loss = 0.885262, accuracy = 0.5404\n",
      "Epoch 67, CIFAR-10 Batch 2:  loss = 0.842591, accuracy = 0.5348\n",
      "Epoch 67, CIFAR-10 Batch 3:  loss = 0.683157, accuracy = 0.5318\n",
      "Epoch 67, CIFAR-10 Batch 4:  loss = 0.87108, accuracy = 0.529\n",
      "Epoch 67, CIFAR-10 Batch 5:  loss = 0.91898, accuracy = 0.5132\n",
      "Epoch 68, CIFAR-10 Batch 1:  loss = 0.889345, accuracy = 0.5346\n",
      "Epoch 68, CIFAR-10 Batch 2:  loss = 0.822897, accuracy = 0.5302\n",
      "Epoch 68, CIFAR-10 Batch 3:  loss = 0.708249, accuracy = 0.532\n",
      "Epoch 68, CIFAR-10 Batch 4:  loss = 0.870481, accuracy = 0.5296\n",
      "Epoch 68, CIFAR-10 Batch 5:  loss = 0.898735, accuracy = 0.5184\n",
      "Epoch 69, CIFAR-10 Batch 1:  loss = 0.878038, accuracy = 0.542\n",
      "Epoch 69, CIFAR-10 Batch 2:  loss = 0.843607, accuracy = 0.5316\n",
      "Epoch 69, CIFAR-10 Batch 3:  loss = 0.730843, accuracy = 0.5308\n",
      "Epoch 69, CIFAR-10 Batch 4:  loss = 0.841169, accuracy = 0.5406\n",
      "Epoch 69, CIFAR-10 Batch 5:  loss = 0.899304, accuracy = 0.5202\n",
      "Epoch 70, CIFAR-10 Batch 1:  loss = 0.916509, accuracy = 0.5436\n",
      "Epoch 70, CIFAR-10 Batch 2:  loss = 0.824679, accuracy = 0.5338\n",
      "Epoch 70, CIFAR-10 Batch 3:  loss = 0.682935, accuracy = 0.5286\n",
      "Epoch 70, CIFAR-10 Batch 4:  loss = 0.887218, accuracy = 0.534\n",
      "Epoch 70, CIFAR-10 Batch 5:  loss = 0.875781, accuracy = 0.5356\n",
      "Epoch 71, CIFAR-10 Batch 1:  loss = 0.869384, accuracy = 0.547\n",
      "Epoch 71, CIFAR-10 Batch 2:  loss = 0.830538, accuracy = 0.5362\n",
      "Epoch 71, CIFAR-10 Batch 3:  loss = 0.666959, accuracy = 0.5346\n",
      "Epoch 71, CIFAR-10 Batch 4:  loss = 0.864253, accuracy = 0.535\n",
      "Epoch 71, CIFAR-10 Batch 5:  loss = 0.896422, accuracy = 0.5312\n",
      "Epoch 72, CIFAR-10 Batch 1:  loss = 0.881585, accuracy = 0.5426\n",
      "Epoch 72, CIFAR-10 Batch 2:  loss = 0.801628, accuracy = 0.532\n",
      "Epoch 72, CIFAR-10 Batch 3:  loss = 0.653899, accuracy = 0.5428\n",
      "Epoch 72, CIFAR-10 Batch 4:  loss = 0.866275, accuracy = 0.533\n",
      "Epoch 72, CIFAR-10 Batch 5:  loss = 0.858726, accuracy = 0.5332\n",
      "Epoch 73, CIFAR-10 Batch 1:  loss = 0.846168, accuracy = 0.5348\n",
      "Epoch 73, CIFAR-10 Batch 2:  loss = 0.82624, accuracy = 0.5372\n",
      "Epoch 73, CIFAR-10 Batch 3:  loss = 0.672523, accuracy = 0.5334\n",
      "Epoch 73, CIFAR-10 Batch 4:  loss = 0.869137, accuracy = 0.535\n",
      "Epoch 73, CIFAR-10 Batch 5:  loss = 0.837999, accuracy = 0.536\n",
      "Epoch 74, CIFAR-10 Batch 1:  loss = 0.860252, accuracy = 0.5346\n",
      "Epoch 74, CIFAR-10 Batch 2:  loss = 0.802616, accuracy = 0.5302\n",
      "Epoch 74, CIFAR-10 Batch 3:  loss = 0.676117, accuracy = 0.5324\n",
      "Epoch 74, CIFAR-10 Batch 4:  loss = 0.846982, accuracy = 0.5308\n",
      "Epoch 74, CIFAR-10 Batch 5:  loss = 0.824137, accuracy = 0.5346\n",
      "Epoch 75, CIFAR-10 Batch 1:  loss = 0.884654, accuracy = 0.5384\n",
      "Epoch 75, CIFAR-10 Batch 2:  loss = 0.798748, accuracy = 0.5274\n",
      "Epoch 75, CIFAR-10 Batch 3:  loss = 0.675889, accuracy = 0.539\n",
      "Epoch 75, CIFAR-10 Batch 4:  loss = 0.869532, accuracy = 0.5384\n",
      "Epoch 75, CIFAR-10 Batch 5:  loss = 0.845045, accuracy = 0.5316\n",
      "Epoch 76, CIFAR-10 Batch 1:  loss = 0.866536, accuracy = 0.5376\n",
      "Epoch 76, CIFAR-10 Batch 2:  loss = 0.789476, accuracy = 0.5362\n",
      "Epoch 76, CIFAR-10 Batch 3:  loss = 0.657888, accuracy = 0.533\n",
      "Epoch 76, CIFAR-10 Batch 4:  loss = 0.841051, accuracy = 0.5324\n",
      "Epoch 76, CIFAR-10 Batch 5:  loss = 0.842602, accuracy = 0.5292\n",
      "Epoch 77, CIFAR-10 Batch 1:  loss = 0.865807, accuracy = 0.541\n",
      "Epoch 77, CIFAR-10 Batch 2:  loss = 0.826961, accuracy = 0.5364\n",
      "Epoch 77, CIFAR-10 Batch 3:  loss = 0.668957, accuracy = 0.534\n",
      "Epoch 77, CIFAR-10 Batch 4:  loss = 0.849966, accuracy = 0.5346\n",
      "Epoch 77, CIFAR-10 Batch 5:  loss = 0.85585, accuracy = 0.5228\n",
      "Epoch 78, CIFAR-10 Batch 1:  loss = 0.904616, accuracy = 0.5258\n",
      "Epoch 78, CIFAR-10 Batch 2:  loss = 0.844668, accuracy = 0.5314\n",
      "Epoch 78, CIFAR-10 Batch 3:  loss = 0.683807, accuracy = 0.5374\n",
      "Epoch 78, CIFAR-10 Batch 4:  loss = 0.828248, accuracy = 0.5346\n",
      "Epoch 78, CIFAR-10 Batch 5:  loss = 0.820197, accuracy = 0.5426\n",
      "Epoch 79, CIFAR-10 Batch 1:  loss = 0.846961, accuracy = 0.5396\n",
      "Epoch 79, CIFAR-10 Batch 2:  loss = 0.802139, accuracy = 0.5308\n",
      "Epoch 79, CIFAR-10 Batch 3:  loss = 0.639299, accuracy = 0.5352\n",
      "Epoch 79, CIFAR-10 Batch 4:  loss = 0.868942, accuracy = 0.5294\n",
      "Epoch 79, CIFAR-10 Batch 5:  loss = 0.843531, accuracy = 0.5156\n",
      "Epoch 80, CIFAR-10 Batch 1:  loss = 0.82369, accuracy = 0.5462\n",
      "Epoch 80, CIFAR-10 Batch 2:  loss = 0.82833, accuracy = 0.5304\n",
      "Epoch 80, CIFAR-10 Batch 3:  loss = 0.639454, accuracy = 0.5382\n",
      "Epoch 80, CIFAR-10 Batch 4:  loss = 0.842727, accuracy = 0.5298\n",
      "Epoch 80, CIFAR-10 Batch 5:  loss = 0.842788, accuracy = 0.5212\n",
      "Epoch 81, CIFAR-10 Batch 1:  loss = 0.83814, accuracy = 0.5416\n",
      "Epoch 81, CIFAR-10 Batch 2:  loss = 0.784509, accuracy = 0.521\n",
      "Epoch 81, CIFAR-10 Batch 3:  loss = 0.699007, accuracy = 0.5288\n",
      "Epoch 81, CIFAR-10 Batch 4:  loss = 0.817665, accuracy = 0.5324\n",
      "Epoch 81, CIFAR-10 Batch 5:  loss = 0.847203, accuracy = 0.5188\n",
      "Epoch 82, CIFAR-10 Batch 1:  loss = 0.829962, accuracy = 0.5422\n",
      "Epoch 82, CIFAR-10 Batch 2:  loss = 0.798579, accuracy = 0.5344\n",
      "Epoch 82, CIFAR-10 Batch 3:  loss = 0.649458, accuracy = 0.5342\n",
      "Epoch 82, CIFAR-10 Batch 4:  loss = 0.801767, accuracy = 0.5338\n",
      "Epoch 82, CIFAR-10 Batch 5:  loss = 0.842962, accuracy = 0.523\n",
      "Epoch 83, CIFAR-10 Batch 1:  loss = 0.885773, accuracy = 0.527\n",
      "Epoch 83, CIFAR-10 Batch 2:  loss = 0.839723, accuracy = 0.5214\n",
      "Epoch 83, CIFAR-10 Batch 3:  loss = 0.636832, accuracy = 0.5394\n",
      "Epoch 83, CIFAR-10 Batch 4:  loss = 0.844404, accuracy = 0.5316\n",
      "Epoch 83, CIFAR-10 Batch 5:  loss = 0.808566, accuracy = 0.5326\n",
      "Epoch 84, CIFAR-10 Batch 1:  loss = 0.827324, accuracy = 0.5434\n",
      "Epoch 84, CIFAR-10 Batch 2:  loss = 0.758544, accuracy = 0.5352\n",
      "Epoch 84, CIFAR-10 Batch 3:  loss = 0.660583, accuracy = 0.5308\n",
      "Epoch 84, CIFAR-10 Batch 4:  loss = 0.845285, accuracy = 0.534\n",
      "Epoch 84, CIFAR-10 Batch 5:  loss = 0.812821, accuracy = 0.5276\n",
      "Epoch 85, CIFAR-10 Batch 1:  loss = 0.846969, accuracy = 0.537\n",
      "Epoch 85, CIFAR-10 Batch 2:  loss = 0.762903, accuracy = 0.5378\n",
      "Epoch 85, CIFAR-10 Batch 3:  loss = 0.632612, accuracy = 0.5342\n",
      "Epoch 85, CIFAR-10 Batch 4:  loss = 0.822526, accuracy = 0.5286\n",
      "Epoch 85, CIFAR-10 Batch 5:  loss = 0.837321, accuracy = 0.5284\n",
      "Epoch 86, CIFAR-10 Batch 1:  loss = 0.842596, accuracy = 0.5382\n",
      "Epoch 86, CIFAR-10 Batch 2:  loss = 0.780068, accuracy = 0.5406\n",
      "Epoch 86, CIFAR-10 Batch 3:  loss = 0.677234, accuracy = 0.5302\n",
      "Epoch 86, CIFAR-10 Batch 4:  loss = 0.850035, accuracy = 0.526\n",
      "Epoch 86, CIFAR-10 Batch 5:  loss = 0.812578, accuracy = 0.5262\n",
      "Epoch 87, CIFAR-10 Batch 1:  loss = 0.792839, accuracy = 0.5408\n",
      "Epoch 87, CIFAR-10 Batch 2:  loss = 0.77975, accuracy = 0.5342\n",
      "Epoch 87, CIFAR-10 Batch 3:  loss = 0.597084, accuracy = 0.5386\n",
      "Epoch 87, CIFAR-10 Batch 4:  loss = 0.808723, accuracy = 0.5432\n",
      "Epoch 87, CIFAR-10 Batch 5:  loss = 0.831177, accuracy = 0.535\n",
      "Epoch 88, CIFAR-10 Batch 1:  loss = 0.837206, accuracy = 0.5378\n",
      "Epoch 88, CIFAR-10 Batch 2:  loss = 0.731679, accuracy = 0.5364\n",
      "Epoch 88, CIFAR-10 Batch 3:  loss = 0.634984, accuracy = 0.5298\n",
      "Epoch 88, CIFAR-10 Batch 4:  loss = 0.796138, accuracy = 0.5334\n",
      "Epoch 88, CIFAR-10 Batch 5:  loss = 0.84434, accuracy = 0.5252\n",
      "Epoch 89, CIFAR-10 Batch 1:  loss = 0.838977, accuracy = 0.5432\n",
      "Epoch 89, CIFAR-10 Batch 2:  loss = 0.773493, accuracy = 0.5382\n",
      "Epoch 89, CIFAR-10 Batch 3:  loss = 0.658588, accuracy = 0.5352\n",
      "Epoch 89, CIFAR-10 Batch 4:  loss = 0.810396, accuracy = 0.5352\n",
      "Epoch 89, CIFAR-10 Batch 5:  loss = 0.824585, accuracy = 0.517\n",
      "Epoch 90, CIFAR-10 Batch 1:  loss = 0.824261, accuracy = 0.5472\n",
      "Epoch 90, CIFAR-10 Batch 2:  loss = 0.772926, accuracy = 0.5326\n",
      "Epoch 90, CIFAR-10 Batch 3:  loss = 0.637417, accuracy = 0.5346\n",
      "Epoch 90, CIFAR-10 Batch 4:  loss = 0.810593, accuracy = 0.5362\n",
      "Epoch 90, CIFAR-10 Batch 5:  loss = 0.839362, accuracy = 0.5244\n",
      "Epoch 91, CIFAR-10 Batch 1:  loss = 0.786416, accuracy = 0.546\n",
      "Epoch 91, CIFAR-10 Batch 2:  loss = 0.741189, accuracy = 0.5378\n",
      "Epoch 91, CIFAR-10 Batch 3:  loss = 0.624244, accuracy = 0.5376\n",
      "Epoch 91, CIFAR-10 Batch 4:  loss = 0.807036, accuracy = 0.534\n",
      "Epoch 91, CIFAR-10 Batch 5:  loss = 0.812835, accuracy = 0.5264\n",
      "Epoch 92, CIFAR-10 Batch 1:  loss = 0.80985, accuracy = 0.5482\n",
      "Epoch 92, CIFAR-10 Batch 2:  loss = 0.750294, accuracy = 0.5334\n",
      "Epoch 92, CIFAR-10 Batch 3:  loss = 0.603759, accuracy = 0.5328\n",
      "Epoch 92, CIFAR-10 Batch 4:  loss = 0.792842, accuracy = 0.5292\n",
      "Epoch 92, CIFAR-10 Batch 5:  loss = 0.792686, accuracy = 0.5368\n",
      "Epoch 93, CIFAR-10 Batch 1:  loss = 0.810817, accuracy = 0.543\n",
      "Epoch 93, CIFAR-10 Batch 2:  loss = 0.765707, accuracy = 0.536\n",
      "Epoch 93, CIFAR-10 Batch 3:  loss = 0.609321, accuracy = 0.5354\n",
      "Epoch 93, CIFAR-10 Batch 4:  loss = 0.782362, accuracy = 0.5334\n",
      "Epoch 93, CIFAR-10 Batch 5:  loss = 0.802907, accuracy = 0.5356\n",
      "Epoch 94, CIFAR-10 Batch 1:  loss = 0.818382, accuracy = 0.5408\n",
      "Epoch 94, CIFAR-10 Batch 2:  loss = 0.741292, accuracy = 0.5362\n",
      "Epoch 94, CIFAR-10 Batch 3:  loss = 0.613436, accuracy = 0.5404\n",
      "Epoch 94, CIFAR-10 Batch 4:  loss = 0.825456, accuracy = 0.539\n",
      "Epoch 94, CIFAR-10 Batch 5:  loss = 0.842368, accuracy = 0.5148\n",
      "Epoch 95, CIFAR-10 Batch 1:  loss = 0.820797, accuracy = 0.543\n",
      "Epoch 95, CIFAR-10 Batch 2:  loss = 0.78864, accuracy = 0.5294\n",
      "Epoch 95, CIFAR-10 Batch 3:  loss = 0.608236, accuracy = 0.5382\n",
      "Epoch 95, CIFAR-10 Batch 4:  loss = 0.811859, accuracy = 0.528\n",
      "Epoch 95, CIFAR-10 Batch 5:  loss = 0.782005, accuracy = 0.5266\n",
      "Epoch 96, CIFAR-10 Batch 1:  loss = 0.806282, accuracy = 0.5418\n",
      "Epoch 96, CIFAR-10 Batch 2:  loss = 0.738352, accuracy = 0.5324\n",
      "Epoch 96, CIFAR-10 Batch 3:  loss = 0.605062, accuracy = 0.5356\n",
      "Epoch 96, CIFAR-10 Batch 4:  loss = 0.803106, accuracy = 0.533\n",
      "Epoch 96, CIFAR-10 Batch 5:  loss = 0.775038, accuracy = 0.5288\n",
      "Epoch 97, CIFAR-10 Batch 1:  loss = 0.784031, accuracy = 0.5404\n",
      "Epoch 97, CIFAR-10 Batch 2:  loss = 0.689785, accuracy = 0.5374\n",
      "Epoch 97, CIFAR-10 Batch 3:  loss = 0.597209, accuracy = 0.532\n",
      "Epoch 97, CIFAR-10 Batch 4:  loss = 0.770402, accuracy = 0.5252\n",
      "Epoch 97, CIFAR-10 Batch 5:  loss = 0.807243, accuracy = 0.5212\n",
      "Epoch 98, CIFAR-10 Batch 1:  loss = 0.810987, accuracy = 0.5408\n",
      "Epoch 98, CIFAR-10 Batch 2:  loss = 0.735259, accuracy = 0.539\n",
      "Epoch 98, CIFAR-10 Batch 3:  loss = 0.586528, accuracy = 0.5418\n",
      "Epoch 98, CIFAR-10 Batch 4:  loss = 0.809448, accuracy = 0.5302\n",
      "Epoch 98, CIFAR-10 Batch 5:  loss = 0.7871, accuracy = 0.5248\n",
      "Epoch 99, CIFAR-10 Batch 1:  loss = 0.806536, accuracy = 0.5376\n",
      "Epoch 99, CIFAR-10 Batch 2:  loss = 0.718578, accuracy = 0.5278\n",
      "Epoch 99, CIFAR-10 Batch 3:  loss = 0.57335, accuracy = 0.5378\n",
      "Epoch 99, CIFAR-10 Batch 4:  loss = 0.793496, accuracy = 0.5356\n",
      "Epoch 99, CIFAR-10 Batch 5:  loss = 0.808084, accuracy = 0.5264\n",
      "Epoch 100, CIFAR-10 Batch 1:  loss = 0.819951, accuracy = 0.5338\n",
      "Epoch 100, CIFAR-10 Batch 2:  loss = 0.725488, accuracy = 0.5358\n",
      "Epoch 100, CIFAR-10 Batch 3:  loss = 0.592968, accuracy = 0.5404\n",
      "Epoch 100, CIFAR-10 Batch 4:  loss = 0.792769, accuracy = 0.5356\n",
      "Epoch 100, CIFAR-10 Batch 5:  loss = 0.812514, accuracy = 0.5214\n"
     ]
    }
   ],
   "source": [
    "\"\"\"\n",
    "DON'T MODIFY ANYTHING IN THIS CELL\n",
    "\"\"\"\n",
    "save_model_path = './image_classification'\n",
    "\n",
    "print('Training...')\n",
    "with tf.Session() as sess:\n",
    "    # Initializing the variables\n",
    "    sess.run(tf.global_variables_initializer())\n",
    "    \n",
    "    # Training cycle\n",
    "    for epoch in range(epochs):\n",
    "        # Loop over all batches\n",
    "        n_batches = 5\n",
    "        for batch_i in range(1, n_batches + 1):\n",
    "            for batch_features, batch_labels in helper.load_preprocess_training_batch(batch_i, batch_size):\n",
    "                train_neural_network(sess, optimizer, keep_probability, batch_features, batch_labels)\n",
    "            print('Epoch {:>2}, CIFAR-10 Batch {}:  '.format(epoch + 1, batch_i), end='')\n",
    "            print_stats(sess, batch_features, batch_labels, cost, accuracy)\n",
    "            \n",
    "    # Save Model\n",
    "    saver = tf.train.Saver()\n",
    "    save_path = saver.save(sess, save_model_path)"
   ]
  },
  {
   "cell_type": "markdown",
   "metadata": {
    "deletable": true,
    "editable": true
   },
   "source": [
    "# Checkpoint\n",
    "The model has been saved to disk.\n",
    "## Test Model\n",
    "Test your model against the test dataset.  This will be your final accuracy. You should have an accuracy greater than 50%. If you don't, keep tweaking the model architecture and parameters."
   ]
  },
  {
   "cell_type": "code",
   "execution_count": 29,
   "metadata": {
    "collapsed": false,
    "deletable": true,
    "editable": true
   },
   "outputs": [
    {
     "name": "stdout",
     "output_type": "stream",
     "text": [
      "Testing Accuracy: 0.5181640625\n",
      "\n"
     ]
    },
    {
     "data": {
      "image/png": "[encoded data removed]",
      "text/plain": [
       "<matplotlib.figure.Figure at 0x7f2b549a9f98>"
      ]
     },
     "metadata": {
      "image/png": {
       "height": 319,
       "width": 355
      }
     },
     "output_type": "display_data"
    }
   ],
   "source": [
    "\"\"\"\n",
    "DON'T MODIFY ANYTHING IN THIS CELL\n",
    "\"\"\"\n",
    "%matplotlib inline\n",
    "%config InlineBackend.figure_format = 'retina'\n",
    "\n",
    "import tensorflow as tf\n",
    "import pickle\n",
    "import helper\n",
    "import random\n",
    "\n",
    "# Set batch size if not already set\n",
    "try:\n",
    "    if batch_size:\n",
    "        pass\n",
    "except NameError:\n",
    "    batch_size = 64\n",
    "\n",
    "save_model_path = './image_classification'\n",
    "n_samples = 4\n",
    "top_n_predictions = 3\n",
    "\n",
    "def test_model():\n",
    "    \"\"\"\n",
    "    Test the saved model against the test dataset\n",
    "    \"\"\"\n",
    "\n",
    "    test_features, test_labels = pickle.load(open('preprocess_test.p', mode='rb'))\n",
    "    loaded_graph = tf.Graph()\n",
    "\n",
    "    with tf.Session(graph=loaded_graph) as sess:\n",
    "        # Load model\n",
    "        loader = tf.train.import_meta_graph(save_model_path + '.meta')\n",
    "        loader.restore(sess, save_model_path)\n",
    "\n",
    "        # Get Tensors from loaded model\n",
    "        loaded_x = loaded_graph.get_tensor_by_name('x:0')\n",
    "        loaded_y = loaded_graph.get_tensor_by_name('y:0')\n",
    "        loaded_keep_prob = loaded_graph.get_tensor_by_name('keep_prob:0')\n",
    "        loaded_logits = loaded_graph.get_tensor_by_name('logits:0')\n",
    "        loaded_acc = loaded_graph.get_tensor_by_name('accuracy:0')\n",
    "        \n",
    "        # Get accuracy in batches for memory limitations\n",
    "        test_batch_acc_total = 0\n",
    "        test_batch_count = 0\n",
    "        \n",
    "        for test_feature_batch, test_label_batch in helper.batch_features_labels(test_features, test_labels, batch_size):\n",
    "            test_batch_acc_total += sess.run(\n",
    "                loaded_acc,\n",
    "                feed_dict={loaded_x: test_feature_batch, loaded_y: test_label_batch, loaded_keep_prob: 1.0})\n",
    "            test_batch_count += 1\n",
    "\n",
    "        print('Testing Accuracy: {}\\n'.format(test_batch_acc_total/test_batch_count))\n",
    "\n",
    "        # Print Random Samples\n",
    "        random_test_features, random_test_labels = tuple(zip(*random.sample(list(zip(test_features, test_labels)), n_samples)))\n",
    "        random_test_predictions = sess.run(\n",
    "            tf.nn.top_k(tf.nn.softmax(loaded_logits), top_n_predictions),\n",
    "            feed_dict={loaded_x: random_test_features, loaded_y: random_test_labels, loaded_keep_prob: 1.0})\n",
    "        helper.display_image_predictions(random_test_features, random_test_labels, random_test_predictions)\n",
    "\n",
    "\n",
    "test_model()"
   ]
  },
  {
   "cell_type": "markdown",
   "metadata": {
    "deletable": true,
    "editable": true
   },
   "source": [
    "## Why 50-80% Accuracy?\n",
    "You might be wondering why you can't get an accuracy any higher. First things first, 50% isn't bad for a simple CNN.  Pure guessing would get you 10% accuracy. However, you might notice people are getting scores [well above 80%](http://rodrigob.github.io/are_we_there_yet/build/classification_datasets_results.html#43494641522d3130).  That's because we haven't taught you all there is to know about neural networks. We still need to cover a few more techniques.\n",
    "## Submitting This Project\n",
    "When submitting this project, make sure to run all the cells before saving the notebook.  Save the notebook file as \"dlnd_image_classification.ipynb\" and save it as a HTML file under \"File\" -> \"Download as\".  Include the \"helper.py\" and \"problem_unittests.py\" files in your submission."
   ]
  }
 ],
 "metadata": {
  "kernelspec": {
   "display_name": "Python 3",
   "language": "python",
   "name": "python3"
  },
  "language_info": {
   "codemirror_mode": {
    "name": "ipython",
    "version": 3
   },
   "file_extension": ".py",
   "mimetype": "text/x-python",
   "name": "python",
   "nbconvert_exporter": "python",
   "pygments_lexer": "ipython3",
   "version": "3.5.2"
  },
  "widgets": {
   "state": {},
   "version": "1.1.2"
  }
 },
 "nbformat": 4,
 "nbformat_minor": 0
}
